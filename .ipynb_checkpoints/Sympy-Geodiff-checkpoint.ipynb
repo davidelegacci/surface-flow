{
 "cells": [
  {
   "cell_type": "markdown",
   "metadata": {},
   "source": [
    "Sympy Geodiff\n",
    "-----\n",
    "https://docs.sympy.org/latest/modules/diffgeom.html\n",
    "\n",
    "nice to define scalar fields https://blog.krastanov.org/2012/05/27/scalar-and-vector-fields-in-sympy-first-steps/\n",
    "\n",
    "\n",
    "good for math http://doc.sagemath.org/html/en/reference/manifolds/sage/manifolds/scalarfield.html\n",
    "\n",
    "solution to build scalar fields \n",
    "https://blog.krastanov.org/2012/06/30/part-1-what-is-a-tensor-and-how-is-it-implemented-in-the-diffgeom-sympy-module/\n",
    "\n",
    "NB\n",
    "----\n",
    "\n",
    "In the examples developed below\n",
    "\n",
    "- x, y, z are coordinate functions\n",
    "- Dx, Dy, Dz are basis vf\n",
    "- dx, dy, dz are basis 1forms\n",
    "---\n",
    "- P is a point with numerical coordinates e.g. (5, 17)\n",
    "- Q and R are points with literal coordinates e.g. (a,b)\n",
    "---\n",
    "- f is an explicit scalar function e.g. sin(x) + exp(xy)\n",
    "- s_field is an undetermined scalar function G(x,y)\n",
    "---\n",
    "- the same can be generalized, defining explicit and implicit functions hence vector fields, oneforms, tensorsù\n",
    "\n",
    "---\n",
    "\n",
    "Attento a non riusare le lettere per coord systems\n",
    "---"
   ]
  },
  {
   "cell_type": "code",
   "execution_count": 1,
   "metadata": {},
   "outputs": [],
   "source": [
    "from sympy import *\n",
    "from sympy.diffgeom import *"
   ]
  },
  {
   "cell_type": "code",
   "execution_count": 2,
   "metadata": {},
   "outputs": [
    {
     "data": {
      "text/plain": [
       "True"
      ]
     },
     "execution_count": 2,
     "metadata": {},
     "output_type": "execute_result"
    }
   ],
   "source": [
    "banana, apple = symbols('banana apple')\n",
    "from sympy.abc import x, y, r, theta # need to be defined as symbols because uses as dummy\n",
    "\n",
    "M = Manifold('M', 2)\n",
    "patch = Patch('P', M)\n",
    "A = CoordSystem('A', patch, ['x','y']) \n",
    "B = CoordSystem('B', patch, ['r', 'theta'])\n",
    "\n",
    "# NB the coordinates of a coordinate system DO NOT NEED TO HAVE A FIXED NAME. They can, but also not.\n",
    "\n",
    "A in patch.coord_systems"
   ]
  },
  {
   "cell_type": "code",
   "execution_count": 3,
   "metadata": {},
   "outputs": [],
   "source": [
    "# Transition function \n",
    "# x = r cos th\n",
    "# y = r sin th\n",
    "\n",
    "# the variables of B need obviously to be used to define those of A\n",
    "# even if they have a name provided in teh definition\n",
    "# they want a dummy name [r, theta] as the second argument of the function\n",
    "# any dummy name can be used (once defined as symbol), what matters is the transition function!\n",
    "\n",
    "# A = f (B)\n",
    "# B.connect_to( A, [dummy name of B variables], [transition functions] )\n",
    "\n",
    "A.connect_to(B, [x, y], [sqrt(x**2+y**2), atan2(y,x)]) \n",
    "B.connect_to(A, [r, theta], [r*cos(theta), r*sin(theta)],inverse=False)\n",
    "# manually provide inverse. If possible it detects it automatically. "
   ]
  },
  {
   "cell_type": "code",
   "execution_count": 4,
   "metadata": {},
   "outputs": [
    {
     "data": {
      "text/latex": [
       "$\\displaystyle \\left[\\begin{matrix}1\\\\\\frac{\\pi}{2}\\end{matrix}\\right]$"
      ],
      "text/plain": [
       "Matrix([\n",
       "[   1],\n",
       "[pi/2]])"
      ]
     },
     "execution_count": 4,
     "metadata": {},
     "output_type": "execute_result"
    }
   ],
   "source": [
    "# Convert coordinates\n",
    "# From A to B\n",
    "A.coord_tuple_transform_to(B, [0,1])"
   ]
  },
  {
   "cell_type": "code",
   "execution_count": 5,
   "metadata": {},
   "outputs": [
    {
     "data": {
      "text/latex": [
       "$\\displaystyle \\left[\\begin{matrix}-1\\\\0\\end{matrix}\\right]$"
      ],
      "text/plain": [
       "Matrix([\n",
       "[-1],\n",
       "[ 0]])"
      ]
     },
     "execution_count": 5,
     "metadata": {},
     "output_type": "execute_result"
    }
   ],
   "source": [
    "# Convert coordinates\n",
    "# From B to A\n",
    "B.coord_tuple_transform_to(A, [1, pi])"
   ]
  },
  {
   "cell_type": "code",
   "execution_count": 6,
   "metadata": {},
   "outputs": [
    {
     "data": {
      "text/latex": [
       "$\\displaystyle \\left[\\begin{matrix}\\cos{\\left(\\theta \\right)} & - r \\sin{\\left(\\theta \\right)}\\\\\\sin{\\left(\\theta \\right)} & r \\cos{\\left(\\theta \\right)}\\end{matrix}\\right]$"
      ],
      "text/plain": [
       "Matrix([\n",
       "[cos(theta), -r*sin(theta)],\n",
       "[sin(theta),  r*cos(theta)]])"
      ]
     },
     "execution_count": 6,
     "metadata": {},
     "output_type": "execute_result"
    }
   ],
   "source": [
    "# Jacobian of A = f (B)\n",
    "# Again here the variables of B are given a dummy name to be displayed \n",
    "B.jacobian(A, [r, theta])"
   ]
  },
  {
   "cell_type": "code",
   "execution_count": 7,
   "metadata": {},
   "outputs": [
    {
     "data": {
      "text/latex": [
       "$\\displaystyle \\left[\\begin{matrix}\\cos{\\left(banana \\right)} & - apple \\sin{\\left(banana \\right)}\\\\\\sin{\\left(banana \\right)} & apple \\cos{\\left(banana \\right)}\\end{matrix}\\right]$"
      ],
      "text/plain": [
       "Matrix([\n",
       "[cos(banana), -apple*sin(banana)],\n",
       "[sin(banana),  apple*cos(banana)]])"
      ]
     },
     "execution_count": 7,
     "metadata": {},
     "output_type": "execute_result"
    }
   ],
   "source": [
    "# And dummy works\n",
    "B.jacobian(A, [apple, banana])"
   ]
  },
  {
   "cell_type": "code",
   "execution_count": 8,
   "metadata": {},
   "outputs": [
    {
     "data": {
      "text/latex": [
       "$\\displaystyle \\left[\\begin{matrix}\\frac{x}{\\sqrt{x^{2} + y^{2}}} & \\frac{y}{\\sqrt{x^{2} + y^{2}}}\\\\- \\frac{y}{x^{2} + y^{2}} & \\frac{x}{x^{2} + y^{2}}\\end{matrix}\\right]$"
      ],
      "text/plain": [
       "Matrix([\n",
       "[x/sqrt(x**2 + y**2), y/sqrt(x**2 + y**2)],\n",
       "[   -y/(x**2 + y**2),     x/(x**2 + y**2)]])"
      ]
     },
     "execution_count": 8,
     "metadata": {},
     "output_type": "execute_result"
    }
   ],
   "source": [
    "# and here the variables of A are given a dummy name to be displayed in the inverse jacobian\n",
    "A.jacobian(B, [x, y])"
   ]
  },
  {
   "cell_type": "code",
   "execution_count": 9,
   "metadata": {},
   "outputs": [
    {
     "data": {
      "text/latex": [
       "$\\displaystyle Point\\left(\\text{A}^{\\text{P}}_{\\text{M}}, \\left[\\begin{matrix}0\\\\1\\end{matrix}\\right]\\right)$"
      ],
      "text/plain": [
       "Point(CoordSystem(A, Patch(P, Manifold(M, 2)), (x, y)), Matrix([\n",
       "[0],\n",
       "[1]]))"
      ]
     },
     "execution_count": 9,
     "metadata": {},
     "output_type": "execute_result"
    }
   ],
   "source": [
    "# Define point in a coord system\n",
    "P = A.point([0,1])\n",
    "P\n",
    "# A is coord system, M is manifold, P is patch; these are all absolute names, not dummy!"
   ]
  },
  {
   "cell_type": "code",
   "execution_count": 10,
   "metadata": {},
   "outputs": [
    {
     "data": {
      "text/latex": [
       "$\\displaystyle \\left[\\begin{matrix}0\\\\1\\end{matrix}\\right]$"
      ],
      "text/plain": [
       "Matrix([\n",
       "[0],\n",
       "[1]])"
      ]
     },
     "execution_count": 10,
     "metadata": {},
     "output_type": "execute_result"
    }
   ],
   "source": [
    "# Get coordinate of point on coord system\n",
    "# A coord\n",
    "A.point_to_coords(P)"
   ]
  },
  {
   "cell_type": "code",
   "execution_count": 11,
   "metadata": {},
   "outputs": [
    {
     "data": {
      "text/latex": [
       "$\\displaystyle \\left[\\begin{matrix}1\\\\\\frac{\\pi}{2}\\end{matrix}\\right]$"
      ],
      "text/plain": [
       "Matrix([\n",
       "[   1],\n",
       "[pi/2]])"
      ]
     },
     "execution_count": 11,
     "metadata": {},
     "output_type": "execute_result"
    }
   ],
   "source": [
    "# B coord\n",
    "B.point_to_coords(P)"
   ]
  },
  {
   "cell_type": "markdown",
   "metadata": {},
   "source": [
    "Acting on with and without .rcall\n",
    "-------\n",
    "\n",
    "- Basis elements act on what they have to act to naturally\n",
    "    - basis scalar fields act on points as x(P)\n",
    "    - basis vector fields act on functions as Dx(f)\n",
    "    - basis one forms act on vector fields as dx(X)\n",
    "    \n",
    "- Compoune elements need .rcall() to work (also basis elements are fine with .rcall() )\n",
    "    - scalar fields act on points as f.rcall(P)\n",
    "    - vector fields act on functions as X.rcall(f)\n",
    "    - oneforms act on vector fields as a.rcall(X)\n"
   ]
  },
  {
   "cell_type": "code",
   "execution_count": 12,
   "metadata": {},
   "outputs": [],
   "source": [
    "# define coordinate functions = base scalar fields, C^infty (M) function returning coordinate when acting on points\n",
    "x = A.coord_function(0)\n",
    "y = A.coord_function(1)\n",
    "r = B.coord_function(0)\n",
    "theta = B.coord_function(1)"
   ]
  },
  {
   "cell_type": "code",
   "execution_count": 13,
   "metadata": {},
   "outputs": [
    {
     "data": {
      "text/latex": [
       "$\\displaystyle \\left[\\begin{matrix}\\cos{\\left(\\mathbf{\\theta} \\right)} & - \\mathbf{r} \\sin{\\left(\\mathbf{\\theta} \\right)}\\\\\\sin{\\left(\\mathbf{\\theta} \\right)} & \\mathbf{r} \\cos{\\left(\\mathbf{\\theta} \\right)}\\end{matrix}\\right]$"
      ],
      "text/plain": [
       "Matrix([\n",
       "[cos(theta), -r*sin(theta)],\n",
       "[sin(theta),  r*cos(theta)]])"
      ]
     },
     "execution_count": 13,
     "metadata": {},
     "output_type": "execute_result"
    }
   ],
   "source": [
    "# even if now x, y, r, theta are objects, they can still be used as dummy\n",
    "B.jacobian(A, [r, theta])"
   ]
  },
  {
   "cell_type": "code",
   "execution_count": 14,
   "metadata": {},
   "outputs": [],
   "source": [
    "# The coordinate functions have the name of the corresponding coordinate, in bold\n",
    "# If no name is provided, the default one is A_0 with A = name of coord system"
   ]
  },
  {
   "cell_type": "code",
   "execution_count": 15,
   "metadata": {},
   "outputs": [
    {
     "data": {
      "text/latex": [
       "$\\displaystyle 0$"
      ],
      "text/plain": [
       "0"
      ]
     },
     "execution_count": 15,
     "metadata": {},
     "output_type": "execute_result"
    }
   ],
   "source": [
    "x(P)"
   ]
  },
  {
   "cell_type": "code",
   "execution_count": 16,
   "metadata": {},
   "outputs": [
    {
     "data": {
      "text/latex": [
       "$\\displaystyle 1$"
      ],
      "text/plain": [
       "1"
      ]
     },
     "execution_count": 16,
     "metadata": {},
     "output_type": "execute_result"
    }
   ],
   "source": [
    "y(P)"
   ]
  },
  {
   "cell_type": "code",
   "execution_count": 17,
   "metadata": {},
   "outputs": [
    {
     "data": {
      "text/latex": [
       "$\\displaystyle 1$"
      ],
      "text/plain": [
       "1"
      ]
     },
     "execution_count": 17,
     "metadata": {},
     "output_type": "execute_result"
    }
   ],
   "source": [
    "r(P)"
   ]
  },
  {
   "cell_type": "code",
   "execution_count": 18,
   "metadata": {},
   "outputs": [
    {
     "data": {
      "text/latex": [
       "$\\displaystyle \\frac{\\pi}{2}$"
      ],
      "text/plain": [
       "pi/2"
      ]
     },
     "execution_count": 18,
     "metadata": {},
     "output_type": "execute_result"
    }
   ],
   "source": [
    "theta(P)"
   ]
  },
  {
   "cell_type": "code",
   "execution_count": 19,
   "metadata": {},
   "outputs": [
    {
     "data": {
      "text/latex": [
       "$\\displaystyle e^{- \\mathbf{y}} \\cos{\\left(\\mathbf{x} \\right)}$"
      ],
      "text/plain": [
       "exp(-y)*cos(x)"
      ]
     },
     "execution_count": 19,
     "metadata": {},
     "output_type": "execute_result"
    }
   ],
   "source": [
    "# Generic scalar function. Just build as combination of basis scalar fields\n",
    "# and evaluate with .rcall(point)\n",
    "\n",
    "# Of course, per definition, a scalar function can be defined in any chart and the result on a point does NOT\n",
    "# depend on the chart used to define it \n",
    "\n",
    "f = cos(x) / exp(y)\n",
    "f"
   ]
  },
  {
   "cell_type": "code",
   "execution_count": 20,
   "metadata": {},
   "outputs": [
    {
     "data": {
      "text/latex": [
       "$\\displaystyle Point\\left(\\text{A}^{\\text{P}}_{\\text{M}}, \\left[\\begin{matrix}0\\\\1\\end{matrix}\\right]\\right)$"
      ],
      "text/plain": [
       "Point(CoordSystem(A, Patch(P, Manifold(M, 2)), (x, y)), Matrix([\n",
       "[0],\n",
       "[1]]))"
      ]
     },
     "execution_count": 20,
     "metadata": {},
     "output_type": "execute_result"
    }
   ],
   "source": [
    "P"
   ]
  },
  {
   "cell_type": "code",
   "execution_count": 21,
   "metadata": {},
   "outputs": [
    {
     "data": {
      "text/latex": [
       "$\\displaystyle e^{-1}$"
      ],
      "text/plain": [
       "exp(-1)"
      ]
     },
     "execution_count": 21,
     "metadata": {},
     "output_type": "execute_result"
    }
   ],
   "source": [
    "f.rcall(P) # NB f(P) raised error"
   ]
  },
  {
   "cell_type": "code",
   "execution_count": 22,
   "metadata": {},
   "outputs": [],
   "source": [
    "# same function (distance from origin) defined in two charts give indeed the same result on a point\n",
    "\n",
    "# g and h are EXACTLY the same function\n",
    "g = sqrt(x**2 + y**2)\n",
    "h = sqrt(r**2) # to make it positive\n",
    "from sympy.abc import a,b"
   ]
  },
  {
   "cell_type": "code",
   "execution_count": 23,
   "metadata": {},
   "outputs": [
    {
     "data": {
      "text/latex": [
       "$\\displaystyle \\left[\\begin{matrix}a \\cos{\\left(b \\right)}\\\\a \\sin{\\left(b \\right)}\\end{matrix}\\right]$"
      ],
      "text/plain": [
       "Matrix([\n",
       "[a*cos(b)],\n",
       "[a*sin(b)]])"
      ]
     },
     "execution_count": 23,
     "metadata": {},
     "output_type": "execute_result"
    }
   ],
   "source": [
    "Q = B.point([a,b])\n",
    "A.point_to_coords(Q)"
   ]
  },
  {
   "cell_type": "code",
   "execution_count": 24,
   "metadata": {},
   "outputs": [
    {
     "data": {
      "text/latex": [
       "$\\displaystyle \\left[\\begin{matrix}\\sqrt{a^{2} + b^{2}}\\\\\\operatorname{atan_{2}}{\\left(b,a \\right)}\\end{matrix}\\right]$"
      ],
      "text/plain": [
       "Matrix([\n",
       "[sqrt(a**2 + b**2)],\n",
       "[      atan2(b, a)]])"
      ]
     },
     "execution_count": 24,
     "metadata": {},
     "output_type": "execute_result"
    }
   ],
   "source": [
    "R = A.point([a,b])\n",
    "B.point_to_coords(R)"
   ]
  },
  {
   "cell_type": "code",
   "execution_count": 25,
   "metadata": {},
   "outputs": [
    {
     "data": {
      "text/latex": [
       "$\\displaystyle \\sqrt{a^{2} \\sin^{2}{\\left(b \\right)} + a^{2} \\cos^{2}{\\left(b \\right)}}$"
      ],
      "text/plain": [
       "sqrt(a**2*sin(b)**2 + a**2*cos(b)**2)"
      ]
     },
     "execution_count": 25,
     "metadata": {},
     "output_type": "execute_result"
    }
   ],
   "source": [
    "g.rcall(Q)"
   ]
  },
  {
   "cell_type": "code",
   "execution_count": 26,
   "metadata": {},
   "outputs": [
    {
     "data": {
      "text/latex": [
       "$\\displaystyle \\sqrt{a^{2}}$"
      ],
      "text/plain": [
       "sqrt(a**2)"
      ]
     },
     "execution_count": 26,
     "metadata": {},
     "output_type": "execute_result"
    }
   ],
   "source": [
    "simplify(g.rcall(Q))"
   ]
  },
  {
   "cell_type": "code",
   "execution_count": 27,
   "metadata": {},
   "outputs": [
    {
     "data": {
      "text/latex": [
       "$\\displaystyle \\sqrt{a^{2}}$"
      ],
      "text/plain": [
       "sqrt(a**2)"
      ]
     },
     "execution_count": 27,
     "metadata": {},
     "output_type": "execute_result"
    }
   ],
   "source": [
    "h.rcall(Q)"
   ]
  },
  {
   "cell_type": "code",
   "execution_count": 28,
   "metadata": {},
   "outputs": [
    {
     "data": {
      "text/plain": [
       "False"
      ]
     },
     "execution_count": 28,
     "metadata": {},
     "output_type": "execute_result"
    }
   ],
   "source": [
    "# to realize they are the same simplify must be used\n",
    "g.rcall(Q) == h.rcall(Q)"
   ]
  },
  {
   "cell_type": "code",
   "execution_count": 29,
   "metadata": {},
   "outputs": [
    {
     "data": {
      "text/plain": [
       "True"
      ]
     },
     "execution_count": 29,
     "metadata": {},
     "output_type": "execute_result"
    }
   ],
   "source": [
    "simplify(g.rcall(Q)) == h.rcall(Q)"
   ]
  },
  {
   "cell_type": "markdown",
   "metadata": {},
   "source": [
    "# when working with the default R^2 the procedure is to use this dedicated function:\n",
    "\n",
    "# One has to use a dedicated function, taking three arguments: \n",
    "\n",
    "# 1. the chart that is being used\n",
    "# 2. the dummy name of the variables\n",
    "# 3. the actual function\n",
    "\n",
    "\n",
    "# f = ScalarField( name_of_coord_syst, [dummy variables name], ACTUAL FUNCTION)  \n",
    "\n",
    "# f = scalar_field(A, [x,y], sin(x)*exp(y))\n",
    "\n",
    "# but here this raises error\n"
   ]
  },
  {
   "cell_type": "code",
   "execution_count": 30,
   "metadata": {},
   "outputs": [],
   "source": [
    "# Another approach to have GENERIC scalar field\n",
    "# NB here x,y are coordinate functions!!\n",
    "G = Function('G')\n",
    "s_field = G(x,y)+x"
   ]
  },
  {
   "cell_type": "code",
   "execution_count": 31,
   "metadata": {},
   "outputs": [
    {
     "data": {
      "text/plain": [
       "G"
      ]
     },
     "execution_count": 31,
     "metadata": {},
     "output_type": "execute_result"
    }
   ],
   "source": [
    "G"
   ]
  },
  {
   "cell_type": "code",
   "execution_count": 32,
   "metadata": {},
   "outputs": [
    {
     "data": {
      "text/latex": [
       "$\\displaystyle \\mathbf{x} + G{\\left(\\mathbf{x},\\mathbf{y} \\right)}$"
      ],
      "text/plain": [
       "x + G(x, y)"
      ]
     },
     "execution_count": 32,
     "metadata": {},
     "output_type": "execute_result"
    }
   ],
   "source": [
    "s_field"
   ]
  },
  {
   "cell_type": "code",
   "execution_count": 33,
   "metadata": {},
   "outputs": [
    {
     "data": {
      "text/latex": [
       "$\\displaystyle G{\\left(0,1 \\right)}$"
      ],
      "text/plain": [
       "G(0, 1)"
      ]
     },
     "execution_count": 33,
     "metadata": {},
     "output_type": "execute_result"
    }
   ],
   "source": [
    "# WOOOOO quindi può essere valutata su un punto pur essendo G non specificata! Currying!!!!\n",
    "s_field.rcall(P)"
   ]
  },
  {
   "cell_type": "code",
   "execution_count": 34,
   "metadata": {},
   "outputs": [
    {
     "data": {
      "text/latex": [
       "$\\displaystyle \\partial_{r} + \\partial_{\\theta} + \\partial_{x} + \\partial_{y}$"
      ],
      "text/plain": [
       "e_r + e_theta + e_x + e_y"
      ]
     },
     "execution_count": 34,
     "metadata": {},
     "output_type": "execute_result"
    }
   ],
   "source": [
    "# BASIS VECTOR FIELDS\n",
    "# name = coord_system.base_vector(index)\n",
    "\n",
    "Dx = A.base_vector(0)\n",
    "Dy = A.base_vector(1)\n",
    "\n",
    "Dr = B.base_vector(0)\n",
    "Dth = B.base_vector(1)\n",
    "\n",
    "Dx + Dy + Dr + Dth"
   ]
  },
  {
   "cell_type": "markdown",
   "metadata": {},
   "source": [
    "Conversion between base vectors\n",
    "---"
   ]
  },
  {
   "cell_type": "code",
   "execution_count": 35,
   "metadata": {},
   "outputs": [
    {
     "data": {
      "text/latex": [
       "$\\displaystyle \\partial_{x}$"
      ],
      "text/plain": [
       "e_x"
      ]
     },
     "execution_count": 35,
     "metadata": {},
     "output_type": "execute_result"
    }
   ],
   "source": [
    "# DX in its own systm\n",
    "vectors_in_basis(Dx,A)"
   ]
  },
  {
   "cell_type": "code",
   "execution_count": 36,
   "metadata": {},
   "outputs": [
    {
     "data": {
      "text/latex": [
       "$\\displaystyle \\frac{\\mathbf{x} \\partial_{r}}{\\sqrt{\\mathbf{x}^{2} + \\mathbf{y}^{2}}} - \\frac{\\mathbf{y} \\partial_{\\theta}}{\\mathbf{x}^{2} + \\mathbf{y}^{2}}$"
      ],
      "text/plain": [
       "x*e_r/sqrt(x**2 + y**2) - y*e_theta/(x**2 + y**2)"
      ]
     },
     "execution_count": 36,
     "metadata": {},
     "output_type": "execute_result"
    }
   ],
   "source": [
    "# DX in the other system\n",
    "vectors_in_basis(Dx,B)"
   ]
  },
  {
   "cell_type": "code",
   "execution_count": 37,
   "metadata": {},
   "outputs": [
    {
     "data": {
      "text/latex": [
       "$\\displaystyle \\partial_{y}$"
      ],
      "text/plain": [
       "e_y"
      ]
     },
     "execution_count": 37,
     "metadata": {},
     "output_type": "execute_result"
    }
   ],
   "source": [
    "# Dy in its own system\n",
    "vectors_in_basis(Dy,A)"
   ]
  },
  {
   "cell_type": "code",
   "execution_count": 38,
   "metadata": {},
   "outputs": [
    {
     "data": {
      "text/latex": [
       "$\\displaystyle \\frac{\\mathbf{x} \\partial_{\\theta}}{\\mathbf{x}^{2} + \\mathbf{y}^{2}} + \\frac{\\mathbf{y} \\partial_{r}}{\\sqrt{\\mathbf{x}^{2} + \\mathbf{y}^{2}}}$"
      ],
      "text/plain": [
       "x*e_theta/(x**2 + y**2) + y*e_r/sqrt(x**2 + y**2)"
      ]
     },
     "execution_count": 38,
     "metadata": {},
     "output_type": "execute_result"
    }
   ],
   "source": [
    "# Dy in the other system\n",
    "vectors_in_basis(Dy,B)"
   ]
  },
  {
   "cell_type": "code",
   "execution_count": 39,
   "metadata": {},
   "outputs": [
    {
     "data": {
      "text/latex": [
       "$\\displaystyle \\sin{\\left(\\mathbf{\\theta} \\right)} \\partial_{y} + \\cos{\\left(\\mathbf{\\theta} \\right)} \\partial_{x}$"
      ],
      "text/plain": [
       "sin(theta)*e_y + cos(theta)*e_x"
      ]
     },
     "execution_count": 39,
     "metadata": {},
     "output_type": "execute_result"
    }
   ],
   "source": [
    "vectors_in_basis(Dr,A)"
   ]
  },
  {
   "cell_type": "code",
   "execution_count": 40,
   "metadata": {},
   "outputs": [
    {
     "data": {
      "text/latex": [
       "$\\displaystyle - \\mathbf{r} \\sin{\\left(\\mathbf{\\theta} \\right)} \\partial_{x} + \\mathbf{r} \\cos{\\left(\\mathbf{\\theta} \\right)} \\partial_{y}$"
      ],
      "text/plain": [
       "-r*sin(theta)*e_x + r*cos(theta)*e_y"
      ]
     },
     "execution_count": 40,
     "metadata": {},
     "output_type": "execute_result"
    }
   ],
   "source": [
    "vectors_in_basis(Dth,A)"
   ]
  },
  {
   "cell_type": "markdown",
   "metadata": {},
   "source": [
    "---"
   ]
  },
  {
   "cell_type": "code",
   "execution_count": 41,
   "metadata": {},
   "outputs": [
    {
     "data": {
      "text/latex": [
       "$\\displaystyle 2 \\mathbf{x} \\partial_{x} + \\sin{\\left(\\mathbf{y} \\right)} \\partial_{y}$"
      ],
      "text/plain": [
       "2*x*e_x + sin(y)*e_y"
      ]
     },
     "execution_count": 41,
     "metadata": {},
     "output_type": "execute_result"
    }
   ],
   "source": [
    "# Generic vector field\n",
    "\n",
    "X = 2*x * Dx + sin(y) * Dy\n",
    "X"
   ]
  },
  {
   "cell_type": "code",
   "execution_count": 42,
   "metadata": {},
   "outputs": [],
   "source": [
    "# Now BASIS vector fields act on scalar functions"
   ]
  },
  {
   "cell_type": "code",
   "execution_count": 43,
   "metadata": {},
   "outputs": [
    {
     "data": {
      "text/latex": [
       "$\\displaystyle e^{- \\mathbf{y}} \\cos{\\left(\\mathbf{x} \\right)}$"
      ],
      "text/plain": [
       "exp(-y)*cos(x)"
      ]
     },
     "execution_count": 43,
     "metadata": {},
     "output_type": "execute_result"
    }
   ],
   "source": [
    "# f is a defined scalar function\n",
    "f"
   ]
  },
  {
   "cell_type": "code",
   "execution_count": 44,
   "metadata": {},
   "outputs": [
    {
     "data": {
      "text/latex": [
       "$\\displaystyle - e^{- \\mathbf{y}} \\sin{\\left(\\mathbf{x} \\right)}$"
      ],
      "text/plain": [
       "-exp(-y)*sin(x)"
      ]
     },
     "execution_count": 44,
     "metadata": {},
     "output_type": "execute_result"
    }
   ],
   "source": [
    "# The action of the basis vector field is\n",
    "Dx(f)"
   ]
  },
  {
   "cell_type": "code",
   "execution_count": 45,
   "metadata": {},
   "outputs": [
    {
     "data": {
      "text/latex": [
       "$\\displaystyle - e^{- a \\sin{\\left(b \\right)}} \\sin{\\left(a \\cos{\\left(b \\right)} \\right)}$"
      ],
      "text/plain": [
       "-exp(-a*sin(b))*sin(a*cos(b))"
      ]
     },
     "execution_count": 45,
     "metadata": {},
     "output_type": "execute_result"
    }
   ],
   "source": [
    "# This is of course a function that can be evaluated somewhere\n",
    "Dx(f).rcall(Q)"
   ]
  },
  {
   "cell_type": "code",
   "execution_count": 46,
   "metadata": {},
   "outputs": [
    {
     "data": {
      "text/latex": [
       "$\\displaystyle - e^{- b} \\sin{\\left(a \\right)}$"
      ],
      "text/plain": [
       "-exp(-b)*sin(a)"
      ]
     },
     "execution_count": 46,
     "metadata": {},
     "output_type": "execute_result"
    }
   ],
   "source": [
    "Dx(f).rcall(R)"
   ]
  },
  {
   "cell_type": "code",
   "execution_count": 47,
   "metadata": {},
   "outputs": [
    {
     "data": {
      "text/latex": [
       "$\\displaystyle 0$"
      ],
      "text/plain": [
       "0"
      ]
     },
     "execution_count": 47,
     "metadata": {},
     "output_type": "execute_result"
    }
   ],
   "source": [
    "Dx(f).rcall(P)"
   ]
  },
  {
   "cell_type": "code",
   "execution_count": 48,
   "metadata": {},
   "outputs": [
    {
     "data": {
      "text/latex": [
       "$\\displaystyle \\mathbf{x} + G{\\left(\\mathbf{x},\\mathbf{y} \\right)}$"
      ],
      "text/plain": [
       "x + G(x, y)"
      ]
     },
     "execution_count": 48,
     "metadata": {},
     "output_type": "execute_result"
    }
   ],
   "source": [
    "# s_field is an _undefined_ scalar function\n",
    "s_field"
   ]
  },
  {
   "cell_type": "code",
   "execution_count": 49,
   "metadata": {},
   "outputs": [
    {
     "data": {
      "text/latex": [
       "$\\displaystyle \\left. \\frac{d}{d \\xi_{1}} G{\\left(\\xi_{1},\\mathbf{y} \\right)} \\right|_{\\substack{ \\xi_{1}=\\mathbf{x} }} + 1$"
      ],
      "text/plain": [
       "Subs(Derivative(G(_xi_1, y), _xi_1), _xi_1, x) + 1"
      ]
     },
     "execution_count": 49,
     "metadata": {},
     "output_type": "execute_result"
    }
   ],
   "source": [
    "# The action of the basis vector field is\n",
    "Dx(s_field)"
   ]
  },
  {
   "cell_type": "code",
   "execution_count": 50,
   "metadata": {},
   "outputs": [
    {
     "data": {
      "text/latex": [
       "$\\displaystyle \\left. \\frac{\\partial}{\\partial \\xi_{1}} G{\\left(\\xi_{1},a \\sin{\\left(b \\right)} \\right)} \\right|_{\\substack{ \\xi_{1}=a \\cos{\\left(b \\right)} }} + 1$"
      ],
      "text/plain": [
       "Subs(Derivative(G(_xi_1, a*sin(b)), _xi_1), _xi_1, a*cos(b)) + 1"
      ]
     },
     "execution_count": 50,
     "metadata": {},
     "output_type": "execute_result"
    }
   ],
   "source": [
    "# This is of course a function that can be evaluated somewhere, still up to the undetermined G\n",
    "Dx(s_field).rcall(Q)"
   ]
  },
  {
   "cell_type": "code",
   "execution_count": 51,
   "metadata": {},
   "outputs": [
    {
     "data": {
      "text/latex": [
       "$\\displaystyle \\left. \\frac{\\partial}{\\partial \\xi_{1}} G{\\left(\\xi_{1},b \\right)} \\right|_{\\substack{ \\xi_{1}=a }} + 1$"
      ],
      "text/plain": [
       "Subs(Derivative(G(_xi_1, b), _xi_1), _xi_1, a) + 1"
      ]
     },
     "execution_count": 51,
     "metadata": {},
     "output_type": "execute_result"
    }
   ],
   "source": [
    "Dx(s_field).rcall(R)"
   ]
  },
  {
   "cell_type": "code",
   "execution_count": 52,
   "metadata": {},
   "outputs": [
    {
     "data": {
      "text/latex": [
       "$\\displaystyle \\left. \\frac{d}{d \\xi_{1}} G{\\left(\\xi_{1},1 \\right)} \\right|_{\\substack{ \\xi_{1}=0 }} + 1$"
      ],
      "text/plain": [
       "Subs(Derivative(G(_xi_1, 1), _xi_1), _xi_1, 0) + 1"
      ]
     },
     "execution_count": 52,
     "metadata": {},
     "output_type": "execute_result"
    }
   ],
   "source": [
    "Dx(s_field).rcall(P)"
   ]
  },
  {
   "cell_type": "code",
   "execution_count": 53,
   "metadata": {},
   "outputs": [],
   "source": [
    "# There is no vector field evaluated at a point, i.e. no vector. Once the evaluation at a point happens, \n",
    "# that means we have a scalar function. For example this raises an error\n",
    "\n",
    "# Dx(P)\n",
    "\n",
    "# as well as this\n",
    "\n",
    "#Dx.rcall(P)\n",
    "\n",
    "# so vector fields are always seen as derivations: function --> function"
   ]
  },
  {
   "cell_type": "code",
   "execution_count": 54,
   "metadata": {},
   "outputs": [
    {
     "data": {
      "text/latex": [
       "$\\displaystyle 2 \\mathbf{x} \\partial_{x} + e^{\\mathbf{x} \\mathbf{y}} \\partial_{y}$"
      ],
      "text/plain": [
       "2*x*e_x + exp(x*y)*e_y"
      ]
     },
     "execution_count": 54,
     "metadata": {},
     "output_type": "execute_result"
    }
   ],
   "source": [
    "# Here is a generic vector field\n",
    "X = 2*x * Dx + exp(x*y) * Dy\n",
    "X"
   ]
  },
  {
   "cell_type": "code",
   "execution_count": 55,
   "metadata": {},
   "outputs": [
    {
     "data": {
      "text/latex": [
       "$\\displaystyle - 2 \\mathbf{x} e^{- \\mathbf{y}} \\sin{\\left(\\mathbf{x} \\right)} - e^{- \\mathbf{y}} e^{\\mathbf{x} \\mathbf{y}} \\cos{\\left(\\mathbf{x} \\right)}$"
      ],
      "text/plain": [
       "-2*x*exp(-y)*sin(x) - exp(-y)*exp(x*y)*cos(x)"
      ]
     },
     "execution_count": 55,
     "metadata": {},
     "output_type": "execute_result"
    }
   ],
   "source": [
    "# And it is a derivation acting on functions via .rcall\n",
    "X.rcall(f)"
   ]
  },
  {
   "cell_type": "code",
   "execution_count": 56,
   "metadata": {},
   "outputs": [
    {
     "data": {
      "text/latex": [
       "$\\displaystyle 2 \\mathbf{x} \\left(\\left. \\frac{d}{d \\xi_{1}} G{\\left(\\xi_{1},\\mathbf{y} \\right)} \\right|_{\\substack{ \\xi_{1}=\\mathbf{x} }} + 1\\right) + e^{\\mathbf{x} \\mathbf{y}} \\left. \\frac{d}{d \\xi_{2}} G{\\left(\\mathbf{x},\\xi_{2} \\right)} \\right|_{\\substack{ \\xi_{2}=\\mathbf{y} }}$"
      ],
      "text/plain": [
       "2*x*(Subs(Derivative(G(_xi_1, y), _xi_1), _xi_1, x) + 1) + exp(x*y)*Subs(Derivative(G(x, _xi_2), _xi_2), _xi_2, y)"
      ]
     },
     "execution_count": 56,
     "metadata": {},
     "output_type": "execute_result"
    }
   ],
   "source": [
    "# Vector field acting on undefined scalar field\n",
    "X.rcall(s_field)"
   ]
  },
  {
   "cell_type": "code",
   "execution_count": 57,
   "metadata": {},
   "outputs": [
    {
     "data": {
      "text/latex": [
       "$\\displaystyle - \\frac{1}{e}$"
      ],
      "text/plain": [
       "-exp(-1)"
      ]
     },
     "execution_count": 57,
     "metadata": {},
     "output_type": "execute_result"
    }
   ],
   "source": [
    "# These are all functions that can be evaluated at points\n",
    "X.rcall(f).rcall(P)"
   ]
  },
  {
   "cell_type": "code",
   "execution_count": 58,
   "metadata": {},
   "outputs": [
    {
     "data": {
      "text/latex": [
       "$\\displaystyle - 2 a e^{- a \\sin{\\left(b \\right)}} \\sin{\\left(a \\cos{\\left(b \\right)} \\right)} \\cos{\\left(b \\right)} - e^{- a \\sin{\\left(b \\right)}} e^{a^{2} \\sin{\\left(b \\right)} \\cos{\\left(b \\right)}} \\cos{\\left(a \\cos{\\left(b \\right)} \\right)}$"
      ],
      "text/plain": [
       "-2*a*exp(-a*sin(b))*sin(a*cos(b))*cos(b) - exp(-a*sin(b))*exp(a**2*sin(b)*cos(b))*cos(a*cos(b))"
      ]
     },
     "execution_count": 58,
     "metadata": {},
     "output_type": "execute_result"
    }
   ],
   "source": [
    "X.rcall(f).rcall(Q)"
   ]
  },
  {
   "cell_type": "code",
   "execution_count": 59,
   "metadata": {},
   "outputs": [
    {
     "data": {
      "text/latex": [
       "$\\displaystyle \\left. \\frac{d}{d \\xi_{2}} G{\\left(0,\\xi_{2} \\right)} \\right|_{\\substack{ \\xi_{2}=1 }}$"
      ],
      "text/plain": [
       "Subs(Derivative(G(0, _xi_2), _xi_2), _xi_2, 1)"
      ]
     },
     "execution_count": 59,
     "metadata": {},
     "output_type": "execute_result"
    }
   ],
   "source": [
    "X.rcall(s_field).rcall(P)"
   ]
  },
  {
   "cell_type": "code",
   "execution_count": 60,
   "metadata": {},
   "outputs": [
    {
     "data": {
      "text/latex": [
       "$\\displaystyle \\operatorname{d}r + \\operatorname{d}\\theta + \\operatorname{d}x + \\operatorname{d}y$"
      ],
      "text/plain": [
       "dr + dtheta + dx + dy"
      ]
     },
     "execution_count": 60,
     "metadata": {},
     "output_type": "execute_result"
    }
   ],
   "source": [
    "# BASIS 1-FORMS FIELDS\n",
    "# name = coord_system.base_oneform(index)\n",
    "\n",
    "dx = A.base_oneform(0)\n",
    "dy = A.base_oneform(1)\n",
    "\n",
    "dr = B.base_oneform(0)\n",
    "dth = B.base_oneform(1)\n",
    "\n",
    "dx + dy + dr + dth"
   ]
  },
  {
   "cell_type": "code",
   "execution_count": 61,
   "metadata": {},
   "outputs": [
    {
     "data": {
      "text/latex": [
       "$\\displaystyle 2 \\mathbf{x}$"
      ],
      "text/plain": [
       "2*x"
      ]
     },
     "execution_count": 61,
     "metadata": {},
     "output_type": "execute_result"
    }
   ],
   "source": [
    "#oneforms on vector fields\n",
    "dx(X)"
   ]
  },
  {
   "cell_type": "code",
   "execution_count": 62,
   "metadata": {},
   "outputs": [
    {
     "data": {
      "text/latex": [
       "$\\displaystyle 1$"
      ],
      "text/plain": [
       "1"
      ]
     },
     "execution_count": 62,
     "metadata": {},
     "output_type": "execute_result"
    }
   ],
   "source": [
    "dx(Dx)"
   ]
  },
  {
   "cell_type": "code",
   "execution_count": 63,
   "metadata": {},
   "outputs": [
    {
     "data": {
      "text/latex": [
       "$\\displaystyle \\mathbf{x} \\mathbf{y} \\partial_{y} + \\operatorname{Y_{1}}{\\left(\\mathbf{x},\\mathbf{y} \\right)} \\partial_{x}$"
      ],
      "text/plain": [
       "x*y*e_y + Y1(x, y)*e_x"
      ]
     },
     "execution_count": 63,
     "metadata": {},
     "output_type": "execute_result"
    }
   ],
   "source": [
    "Y1 = Function('Y1')\n",
    "# Just as s_field is an undetermined scalar field, so Y is an undetermined vector field\n",
    "Y = Y1(x,y) * Dx + x*y*Dy\n",
    "Y"
   ]
  },
  {
   "cell_type": "code",
   "execution_count": 64,
   "metadata": {},
   "outputs": [
    {
     "data": {
      "text/latex": [
       "$\\displaystyle \\operatorname{Y_{1}}{\\left(e^{- \\mathbf{y}} \\cos{\\left(\\mathbf{x} \\right)} \\right)}$"
      ],
      "text/plain": [
       "Y1(exp(-y)*cos(x))"
      ]
     },
     "execution_count": 64,
     "metadata": {},
     "output_type": "execute_result"
    }
   ],
   "source": [
    "# function composition\n",
    "Y1(f)"
   ]
  },
  {
   "cell_type": "code",
   "execution_count": 65,
   "metadata": {},
   "outputs": [
    {
     "data": {
      "text/latex": [
       "$\\displaystyle - \\mathbf{x} \\mathbf{y} e^{- \\mathbf{y}} \\cos{\\left(\\mathbf{x} \\right)} - \\operatorname{Y_{1}}{\\left(\\mathbf{x},\\mathbf{y} \\right)} e^{- \\mathbf{y}} \\sin{\\left(\\mathbf{x} \\right)}$"
      ],
      "text/plain": [
       "-x*y*exp(-y)*cos(x) - Y1(x, y)*exp(-y)*sin(x)"
      ]
     },
     "execution_count": 65,
     "metadata": {},
     "output_type": "execute_result"
    }
   ],
   "source": [
    "# undetermined vector field on determined function\n",
    "Y.rcall(f)"
   ]
  },
  {
   "cell_type": "code",
   "execution_count": 66,
   "metadata": {},
   "outputs": [
    {
     "data": {
      "text/latex": [
       "$\\displaystyle \\mathbf{x} \\mathbf{y} \\left. \\frac{d}{d \\xi_{2}} G{\\left(\\mathbf{x},\\xi_{2} \\right)} \\right|_{\\substack{ \\xi_{2}=\\mathbf{y} }} + \\left(\\left. \\frac{d}{d \\xi_{1}} G{\\left(\\xi_{1},\\mathbf{y} \\right)} \\right|_{\\substack{ \\xi_{1}=\\mathbf{x} }} + 1\\right) \\operatorname{Y_{1}}{\\left(\\mathbf{x},\\mathbf{y} \\right)}$"
      ],
      "text/plain": [
       "x*y*Subs(Derivative(G(x, _xi_2), _xi_2), _xi_2, y) + (Subs(Derivative(G(_xi_1, y), _xi_1), _xi_1, x) + 1)*Y1(x, y)"
      ]
     },
     "execution_count": 66,
     "metadata": {},
     "output_type": "execute_result"
    }
   ],
   "source": [
    "# undetermined vector field on undetermined function. godo\n",
    "Y.rcall(s_field)"
   ]
  },
  {
   "cell_type": "code",
   "execution_count": 67,
   "metadata": {},
   "outputs": [
    {
     "data": {
      "text/latex": [
       "$\\displaystyle \\mathbf{x} \\mathbf{y} \\operatorname{d}x + e^{\\mathbf{y}} \\operatorname{d}y$"
      ],
      "text/plain": [
       "x*y*dx + exp(y)*dy"
      ]
     },
     "execution_count": 67,
     "metadata": {},
     "output_type": "execute_result"
    }
   ],
   "source": [
    "# Generic oneform\n",
    "alpha = x*y * dx + exp(y) * dy\n",
    "alpha"
   ]
  },
  {
   "cell_type": "code",
   "execution_count": 68,
   "metadata": {},
   "outputs": [
    {
     "data": {
      "text/latex": [
       "$\\displaystyle \\mathbf{x} \\mathbf{y}$"
      ],
      "text/plain": [
       "x*y"
      ]
     },
     "execution_count": 68,
     "metadata": {},
     "output_type": "execute_result"
    }
   ],
   "source": [
    "# one form on vector field\n",
    "alpha.rcall(Dx)"
   ]
  },
  {
   "cell_type": "code",
   "execution_count": 69,
   "metadata": {},
   "outputs": [
    {
     "data": {
      "text/latex": [
       "$\\displaystyle 2 \\mathbf{x}^{2} \\mathbf{y} + e^{\\mathbf{y}} e^{\\mathbf{x} \\mathbf{y}}$"
      ],
      "text/plain": [
       "2*x**2*y + exp(y)*exp(x*y)"
      ]
     },
     "execution_count": 69,
     "metadata": {},
     "output_type": "execute_result"
    }
   ],
   "source": [
    "# one form on vector field\n",
    "alpha.rcall(X)"
   ]
  },
  {
   "cell_type": "code",
   "execution_count": 70,
   "metadata": {},
   "outputs": [
    {
     "data": {
      "text/latex": [
       "$\\displaystyle \\mathbf{x} \\mathbf{y} \\operatorname{Y_{1}}{\\left(\\mathbf{x},\\mathbf{y} \\right)} + \\mathbf{x} \\mathbf{y} e^{\\mathbf{y}}$"
      ],
      "text/plain": [
       "x*y*Y1(x, y) + x*y*exp(y)"
      ]
     },
     "execution_count": 70,
     "metadata": {},
     "output_type": "execute_result"
    }
   ],
   "source": [
    "# one form on undetermined vector field\n",
    "alpha.rcall(Y)"
   ]
  },
  {
   "cell_type": "code",
   "execution_count": 71,
   "metadata": {},
   "outputs": [
    {
     "data": {
      "text/latex": [
       "$\\displaystyle \\mathbf{y}^{2} \\operatorname{d}y + \\beta_{1}{\\left(\\mathbf{x},\\mathbf{y} \\right)} \\operatorname{d}x$"
      ],
      "text/plain": [
       "y**2*dy + beta1(x, y)*dx"
      ]
     },
     "execution_count": 71,
     "metadata": {},
     "output_type": "execute_result"
    }
   ],
   "source": [
    "# undetermined oneform\n",
    "beta1 = Function('beta1')\n",
    "beta = beta1(x,y) * dx + y**2 * dy\n",
    "beta"
   ]
  },
  {
   "cell_type": "code",
   "execution_count": 72,
   "metadata": {},
   "outputs": [
    {
     "data": {
      "text/latex": [
       "$\\displaystyle 2 \\mathbf{x} \\beta_{1}{\\left(\\mathbf{x},\\mathbf{y} \\right)} + \\mathbf{y}^{2} e^{\\mathbf{x} \\mathbf{y}}$"
      ],
      "text/plain": [
       "2*x*beta1(x, y) + y**2*exp(x*y)"
      ]
     },
     "execution_count": 72,
     "metadata": {},
     "output_type": "execute_result"
    }
   ],
   "source": [
    "# undetermined oneform on vf\n",
    "beta.rcall(X)"
   ]
  },
  {
   "cell_type": "code",
   "execution_count": 73,
   "metadata": {},
   "outputs": [
    {
     "data": {
      "text/latex": [
       "$\\displaystyle \\mathbf{x} \\mathbf{y}^{3} + \\operatorname{Y_{1}}{\\left(\\mathbf{x},\\mathbf{y} \\right)} \\beta_{1}{\\left(\\mathbf{x},\\mathbf{y} \\right)}$"
      ],
      "text/plain": [
       "x*y**3 + Y1(x, y)*beta1(x, y)"
      ]
     },
     "execution_count": 73,
     "metadata": {},
     "output_type": "execute_result"
    }
   ],
   "source": [
    "# undetermined oneform on undetermined vf\n",
    "beta.rcall(Y)"
   ]
  },
  {
   "cell_type": "code",
   "execution_count": 74,
   "metadata": {},
   "outputs": [],
   "source": [
    "# Evaluate these functions somewhere"
   ]
  },
  {
   "cell_type": "code",
   "execution_count": 75,
   "metadata": {},
   "outputs": [
    {
     "data": {
      "text/latex": [
       "$\\displaystyle 0$"
      ],
      "text/plain": [
       "0"
      ]
     },
     "execution_count": 75,
     "metadata": {},
     "output_type": "execute_result"
    }
   ],
   "source": [
    "alpha.rcall(Dx).rcall(P)"
   ]
  },
  {
   "cell_type": "code",
   "execution_count": 76,
   "metadata": {},
   "outputs": [
    {
     "data": {
      "text/latex": [
       "$\\displaystyle e$"
      ],
      "text/plain": [
       "E"
      ]
     },
     "execution_count": 76,
     "metadata": {},
     "output_type": "execute_result"
    }
   ],
   "source": [
    "alpha.rcall(X).rcall(P)"
   ]
  },
  {
   "cell_type": "code",
   "execution_count": 77,
   "metadata": {},
   "outputs": [
    {
     "data": {
      "text/latex": [
       "$\\displaystyle 2 a^{3} \\sin{\\left(b \\right)} \\cos^{2}{\\left(b \\right)} + e^{a \\sin{\\left(b \\right)}} e^{a^{2} \\sin{\\left(b \\right)} \\cos{\\left(b \\right)}}$"
      ],
      "text/plain": [
       "2*a**3*sin(b)*cos(b)**2 + exp(a*sin(b))*exp(a**2*sin(b)*cos(b))"
      ]
     },
     "execution_count": 77,
     "metadata": {},
     "output_type": "execute_result"
    }
   ],
   "source": [
    "alpha.rcall(X).rcall(Q)"
   ]
  },
  {
   "cell_type": "code",
   "execution_count": 78,
   "metadata": {},
   "outputs": [
    {
     "data": {
      "text/latex": [
       "$\\displaystyle 2 a^{2} b + e^{b} e^{a b}$"
      ],
      "text/plain": [
       "2*a**2*b + exp(b)*exp(a*b)"
      ]
     },
     "execution_count": 78,
     "metadata": {},
     "output_type": "execute_result"
    }
   ],
   "source": [
    "alpha.rcall(X).rcall(R)"
   ]
  },
  {
   "cell_type": "code",
   "execution_count": 79,
   "metadata": {},
   "outputs": [
    {
     "data": {
      "text/latex": [
       "$\\displaystyle a^{2} \\operatorname{Y_{1}}{\\left(a \\cos{\\left(b \\right)},a \\sin{\\left(b \\right)} \\right)} \\sin{\\left(b \\right)} \\cos{\\left(b \\right)} + a^{2} e^{a \\sin{\\left(b \\right)}} \\sin{\\left(b \\right)} \\cos{\\left(b \\right)}$"
      ],
      "text/plain": [
       "a**2*Y1(a*cos(b), a*sin(b))*sin(b)*cos(b) + a**2*exp(a*sin(b))*sin(b)*cos(b)"
      ]
     },
     "execution_count": 79,
     "metadata": {},
     "output_type": "execute_result"
    }
   ],
   "source": [
    "alpha.rcall(Y).rcall(Q)"
   ]
  },
  {
   "cell_type": "code",
   "execution_count": 80,
   "metadata": {},
   "outputs": [
    {
     "data": {
      "text/latex": [
       "$\\displaystyle 0$"
      ],
      "text/plain": [
       "0"
      ]
     },
     "execution_count": 80,
     "metadata": {},
     "output_type": "execute_result"
    }
   ],
   "source": [
    "alpha.rcall(Y).rcall(P)"
   ]
  },
  {
   "cell_type": "code",
   "execution_count": 81,
   "metadata": {},
   "outputs": [
    {
     "data": {
      "text/latex": [
       "$\\displaystyle 1$"
      ],
      "text/plain": [
       "1"
      ]
     },
     "execution_count": 81,
     "metadata": {},
     "output_type": "execute_result"
    }
   ],
   "source": [
    "beta.rcall(X).rcall(P)"
   ]
  },
  {
   "cell_type": "code",
   "execution_count": 82,
   "metadata": {},
   "outputs": [
    {
     "data": {
      "text/latex": [
       "$\\displaystyle a^{2} e^{a^{2} \\sin{\\left(b \\right)} \\cos{\\left(b \\right)}} \\sin^{2}{\\left(b \\right)} + 2 a \\beta_{1}{\\left(a \\cos{\\left(b \\right)},a \\sin{\\left(b \\right)} \\right)} \\cos{\\left(b \\right)}$"
      ],
      "text/plain": [
       "a**2*exp(a**2*sin(b)*cos(b))*sin(b)**2 + 2*a*beta1(a*cos(b), a*sin(b))*cos(b)"
      ]
     },
     "execution_count": 82,
     "metadata": {},
     "output_type": "execute_result"
    }
   ],
   "source": [
    "beta.rcall(X).rcall(Q)"
   ]
  },
  {
   "cell_type": "code",
   "execution_count": 83,
   "metadata": {},
   "outputs": [
    {
     "data": {
      "text/latex": [
       "$\\displaystyle 2 a \\beta_{1}{\\left(a,b \\right)} + b^{2} e^{a b}$"
      ],
      "text/plain": [
       "2*a*beta1(a, b) + b**2*exp(a*b)"
      ]
     },
     "execution_count": 83,
     "metadata": {},
     "output_type": "execute_result"
    }
   ],
   "source": [
    "beta.rcall(X).rcall(R)"
   ]
  },
  {
   "cell_type": "markdown",
   "metadata": {},
   "source": [
    "Cazzo che figata\n",
    "-----"
   ]
  },
  {
   "cell_type": "markdown",
   "metadata": {},
   "source": [
    "Commutator\n",
    "-----"
   ]
  },
  {
   "cell_type": "code",
   "execution_count": 84,
   "metadata": {},
   "outputs": [
    {
     "data": {
      "text/latex": [
       "$\\displaystyle - 2 \\partial_{x}$"
      ],
      "text/plain": [
       "-2*e_x"
      ]
     },
     "execution_count": 84,
     "metadata": {},
     "output_type": "execute_result"
    }
   ],
   "source": [
    "X = x * Dx + y * Dy\n",
    "Y = 2 * Dx - x * Dy\n",
    "Z = Commutator(X,Y)\n",
    "Z"
   ]
  },
  {
   "cell_type": "markdown",
   "metadata": {},
   "source": [
    "Differential\n",
    "-----"
   ]
  },
  {
   "cell_type": "code",
   "execution_count": 85,
   "metadata": {},
   "outputs": [
    {
     "data": {
      "text/latex": [
       "$\\displaystyle \\operatorname{d}\\left(e^{- \\mathbf{y}} \\cos{\\left(\\mathbf{x} \\right)}\\right)$"
      ],
      "text/plain": [
       "d(exp(-y)*cos(x))"
      ]
     },
     "execution_count": 85,
     "metadata": {},
     "output_type": "execute_result"
    }
   ],
   "source": [
    "df = Differential(f)\n",
    "df"
   ]
  },
  {
   "cell_type": "code",
   "execution_count": 86,
   "metadata": {},
   "outputs": [
    {
     "data": {
      "text/latex": [
       "$\\displaystyle \\operatorname{d}\\left(\\mathbf{x} \\mathbf{y} \\operatorname{d}x + e^{\\mathbf{y}} \\operatorname{d}y\\right)$"
      ],
      "text/plain": [
       "d(x*y*dx + exp(y)*dy)"
      ]
     },
     "execution_count": 86,
     "metadata": {},
     "output_type": "execute_result"
    }
   ],
   "source": [
    "dalpha = Differential(alpha)\n",
    "dalpha\n",
    "# does not expand 2 form"
   ]
  },
  {
   "cell_type": "code",
   "execution_count": 87,
   "metadata": {},
   "outputs": [
    {
     "data": {
      "text/latex": [
       "$\\displaystyle 0$"
      ],
      "text/plain": [
       "0"
      ]
     },
     "execution_count": 87,
     "metadata": {},
     "output_type": "execute_result"
    }
   ],
   "source": [
    "ddalpha = Differential(Differential(alpha))\n",
    "ddalpha"
   ]
  },
  {
   "cell_type": "markdown",
   "metadata": {},
   "source": [
    "Wedge product\n",
    "----"
   ]
  },
  {
   "cell_type": "code",
   "execution_count": 88,
   "metadata": {},
   "outputs": [
    {
     "data": {
      "text/latex": [
       "$\\displaystyle \\mathbf{x} \\mathbf{y} \\operatorname{d}x + e^{\\mathbf{y}} \\operatorname{d}y \\wedge \\mathbf{y}^{2} \\operatorname{d}y + \\beta_{1}{\\left(\\mathbf{x},\\mathbf{y} \\right)} \\operatorname{d}x$"
      ],
      "text/plain": [
       "WedgeProduct(x*y*dx + exp(y)*dy, y**2*dy + beta1(x, y)*dx)"
      ]
     },
     "execution_count": 88,
     "metadata": {},
     "output_type": "execute_result"
    }
   ],
   "source": [
    "WedgeProduct(alpha,beta)"
   ]
  },
  {
   "cell_type": "code",
   "execution_count": 89,
   "metadata": {},
   "outputs": [
    {
     "data": {
      "text/latex": [
       "$\\displaystyle - \\left(2 \\mathbf{x} \\mathbf{y} - \\mathbf{x} e^{\\mathbf{y}}\\right) \\left(\\mathbf{x} \\beta_{1}{\\left(\\mathbf{x},\\mathbf{y} \\right)} + \\mathbf{y}^{3}\\right) + \\left(- \\mathbf{x} \\mathbf{y}^{2} + 2 \\beta_{1}{\\left(\\mathbf{x},\\mathbf{y} \\right)}\\right) \\left(\\mathbf{x}^{2} \\mathbf{y} + \\mathbf{y} e^{\\mathbf{y}}\\right)$"
      ],
      "text/plain": [
       "-(2*x*y - x*exp(y))*(x*beta1(x, y) + y**3) + (-x*y**2 + 2*beta1(x, y))*(x**2*y + y*exp(y))"
      ]
     },
     "execution_count": 89,
     "metadata": {},
     "output_type": "execute_result"
    }
   ],
   "source": [
    "# a 2 form acts on 2 vector fields\n",
    "WedgeProduct(alpha,beta)(X,Y)"
   ]
  },
  {
   "cell_type": "code",
   "execution_count": 90,
   "metadata": {},
   "outputs": [
    {
     "data": {
      "text/latex": [
       "$\\displaystyle 2 e \\beta_{1}{\\left(0,1 \\right)}$"
      ],
      "text/plain": [
       "2*E*beta1(0, 1)"
      ]
     },
     "execution_count": 90,
     "metadata": {},
     "output_type": "execute_result"
    }
   ],
   "source": [
    "# and gives a number on points\n",
    "WedgeProduct(alpha,beta)(X,Y).rcall(P)"
   ]
  },
  {
   "cell_type": "code",
   "execution_count": 91,
   "metadata": {},
   "outputs": [],
   "source": [
    "# To be clear define brand new stuff totally explicit\n",
    "a = x * dx + sin(y) * dy\n",
    "b = y * dx + exp(x) * dy\n",
    "V = y**2 * Dx + x * Dy\n",
    "W = x * Dx - y**2 * Dy"
   ]
  },
  {
   "cell_type": "code",
   "execution_count": 92,
   "metadata": {},
   "outputs": [
    {
     "data": {
      "text/latex": [
       "$\\displaystyle \\mathbf{x} \\operatorname{d}x + \\sin{\\left(\\mathbf{y} \\right)} \\operatorname{d}y \\wedge \\mathbf{y} \\operatorname{d}x + e^{\\mathbf{x}} \\operatorname{d}y$"
      ],
      "text/plain": [
       "WedgeProduct(x*dx + sin(y)*dy, y*dx + exp(x)*dy)"
      ]
     },
     "execution_count": 92,
     "metadata": {},
     "output_type": "execute_result"
    }
   ],
   "source": [
    "WedgeProduct(a,b)"
   ]
  },
  {
   "cell_type": "code",
   "execution_count": 93,
   "metadata": {},
   "outputs": [
    {
     "data": {
      "text/latex": [
       "$\\displaystyle \\left(\\mathbf{x}^{2} + \\mathbf{y} \\sin{\\left(\\mathbf{y} \\right)}\\right) \\left(\\mathbf{y} \\operatorname{d}x + e^{\\mathbf{x}} \\operatorname{d}y\\right)$"
      ],
      "text/plain": [
       "(x**2 + y*sin(y))*(y*dx + exp(x)*dy)"
      ]
     },
     "execution_count": 93,
     "metadata": {},
     "output_type": "execute_result"
    }
   ],
   "source": [
    "# 2-form on 1 vector field = 1-form\n",
    "WedgeProduct(a,b)(X)"
   ]
  },
  {
   "cell_type": "code",
   "execution_count": 94,
   "metadata": {},
   "outputs": [
    {
     "data": {
      "text/latex": [
       "$\\displaystyle - \\left(\\mathbf{x}^{2} - \\mathbf{y}^{2} \\sin{\\left(\\mathbf{y} \\right)}\\right) \\left(\\mathbf{x} e^{\\mathbf{x}} + \\mathbf{y}^{3}\\right) + \\left(\\mathbf{x} \\mathbf{y} - \\mathbf{y}^{2} e^{\\mathbf{x}}\\right) \\left(\\mathbf{x} \\mathbf{y}^{2} + \\mathbf{x} \\sin{\\left(\\mathbf{y} \\right)}\\right)$"
      ],
      "text/plain": [
       "-(x**2 - y**2*sin(y))*(x*exp(x) + y**3) + (x*y - y**2*exp(x))*(x*y**2 + x*sin(y))"
      ]
     },
     "execution_count": 94,
     "metadata": {},
     "output_type": "execute_result"
    }
   ],
   "source": [
    "# 2-form on 2 vector fields = function\n",
    "WedgeProduct(a,b)(V,W)"
   ]
  },
  {
   "cell_type": "code",
   "execution_count": 95,
   "metadata": {},
   "outputs": [
    {
     "data": {
      "text/latex": [
       "$\\displaystyle \\sin{\\left(1 \\right)}$"
      ],
      "text/plain": [
       "sin(1)"
      ]
     },
     "execution_count": 95,
     "metadata": {},
     "output_type": "execute_result"
    }
   ],
   "source": [
    "# and number on point \n",
    "WedgeProduct(a,b)(V,W).rcall(P)"
   ]
  },
  {
   "cell_type": "markdown",
   "metadata": {},
   "source": [
    "Tensor product, analogue\n",
    "----"
   ]
  },
  {
   "cell_type": "code",
   "execution_count": 96,
   "metadata": {},
   "outputs": [
    {
     "data": {
      "text/latex": [
       "$\\displaystyle \\mathbf{x} \\operatorname{d}x + \\sin{\\left(\\mathbf{y} \\right)} \\operatorname{d}y \\otimes \\mathbf{y} \\operatorname{d}x + e^{\\mathbf{x}} \\operatorname{d}y$"
      ],
      "text/plain": [
       "TensorProduct(x*dx + sin(y)*dy, y*dx + exp(x)*dy)"
      ]
     },
     "execution_count": 96,
     "metadata": {},
     "output_type": "execute_result"
    }
   ],
   "source": [
    "TensorProduct(a,b)"
   ]
  },
  {
   "cell_type": "code",
   "execution_count": 97,
   "metadata": {},
   "outputs": [
    {
     "data": {
      "text/latex": [
       "$\\displaystyle \\left(\\mathbf{x} \\mathbf{y}^{2} + \\mathbf{x} \\sin{\\left(\\mathbf{y} \\right)}\\right) \\left(\\mathbf{y} \\operatorname{d}x + e^{\\mathbf{x}} \\operatorname{d}y\\right)$"
      ],
      "text/plain": [
       "(x*y**2 + x*sin(y))*(y*dx + exp(x)*dy)"
      ]
     },
     "execution_count": 97,
     "metadata": {},
     "output_type": "execute_result"
    }
   ],
   "source": [
    "TensorProduct(a,b)(V)"
   ]
  },
  {
   "cell_type": "code",
   "execution_count": 98,
   "metadata": {
    "slideshow": {
     "slide_type": "-"
    }
   },
   "outputs": [
    {
     "data": {
      "text/latex": [
       "$\\displaystyle \\left(\\mathbf{x} \\mathbf{y} - \\mathbf{y}^{2} e^{\\mathbf{x}}\\right) \\left(\\mathbf{x} \\mathbf{y}^{2} + \\mathbf{x} \\sin{\\left(\\mathbf{y} \\right)}\\right)$"
      ],
      "text/plain": [
       "(x*y - y**2*exp(x))*(x*y**2 + x*sin(y))"
      ]
     },
     "execution_count": 98,
     "metadata": {},
     "output_type": "execute_result"
    }
   ],
   "source": [
    "TensorProduct(a,b)(V,W)"
   ]
  },
  {
   "cell_type": "code",
   "execution_count": 99,
   "metadata": {},
   "outputs": [
    {
     "data": {
      "text/latex": [
       "$\\displaystyle \\left(- a^{2} e^{a \\cos{\\left(b \\right)}} \\sin^{2}{\\left(b \\right)} + a^{2} \\sin{\\left(b \\right)} \\cos{\\left(b \\right)}\\right) \\left(a^{3} \\sin^{2}{\\left(b \\right)} \\cos{\\left(b \\right)} + a \\sin{\\left(a \\sin{\\left(b \\right)} \\right)} \\cos{\\left(b \\right)}\\right)$"
      ],
      "text/plain": [
       "(-a**2*exp(a*cos(b))*sin(b)**2 + a**2*sin(b)*cos(b))*(a**3*sin(b)**2*cos(b) + a*sin(a*sin(b))*cos(b))"
      ]
     },
     "execution_count": 99,
     "metadata": {},
     "output_type": "execute_result"
    }
   ],
   "source": [
    "TensorProduct(a,b)(V,W).rcall(Q)"
   ]
  },
  {
   "cell_type": "code",
   "execution_count": 100,
   "metadata": {},
   "outputs": [],
   "source": [
    "new_point = A.point([4,5])"
   ]
  },
  {
   "cell_type": "code",
   "execution_count": 101,
   "metadata": {},
   "outputs": [
    {
     "data": {
      "text/latex": [
       "$\\displaystyle \\left(20 - 25 e^{4}\\right) \\left(4 \\sin{\\left(5 \\right)} + 100\\right)$"
      ],
      "text/plain": [
       "(20 - 25*exp(4))*(4*sin(5) + 100)"
      ]
     },
     "execution_count": 101,
     "metadata": {},
     "output_type": "execute_result"
    }
   ],
   "source": [
    "TensorProduct(a,b)(V,W).rcall(new_point)"
   ]
  },
  {
   "cell_type": "code",
   "execution_count": 102,
   "metadata": {},
   "outputs": [
    {
     "data": {
      "text/latex": [
       "$\\displaystyle \\left(80 - 100 e^{4}\\right) \\left(\\sin{\\left(5 \\right)} + 25\\right)$"
      ],
      "text/plain": [
       "(80 - 100*exp(4))*(sin(5) + 25)"
      ]
     },
     "execution_count": 102,
     "metadata": {},
     "output_type": "execute_result"
    }
   ],
   "source": [
    "simplify(TensorProduct(a,b)(V,W).rcall(new_point))"
   ]
  },
  {
   "cell_type": "code",
   "execution_count": 103,
   "metadata": {},
   "outputs": [
    {
     "data": {
      "text/latex": [
       "$\\displaystyle -129336.539882985$"
      ],
      "text/plain": [
       "-129336.539882985"
      ]
     },
     "execution_count": 103,
     "metadata": {},
     "output_type": "execute_result"
    }
   ],
   "source": [
    "simplify(TensorProduct(a,b)(V,W).rcall(new_point)).evalf()"
   ]
  },
  {
   "cell_type": "markdown",
   "metadata": {},
   "source": [
    "Lie Derivative\n",
    "---"
   ]
  },
  {
   "cell_type": "code",
   "execution_count": 104,
   "metadata": {},
   "outputs": [
    {
     "data": {
      "text/latex": [
       "$\\displaystyle - \\mathbf{x} e^{- \\mathbf{y}} \\sin{\\left(\\mathbf{x} \\right)} - \\mathbf{y} e^{- \\mathbf{y}} \\cos{\\left(\\mathbf{x} \\right)}$"
      ],
      "text/plain": [
       "-x*exp(-y)*sin(x) - y*exp(-y)*cos(x)"
      ]
     },
     "execution_count": 104,
     "metadata": {},
     "output_type": "execute_result"
    }
   ],
   "source": [
    "LieDerivative(X,f)"
   ]
  },
  {
   "cell_type": "code",
   "execution_count": 105,
   "metadata": {},
   "outputs": [
    {
     "data": {
      "text/latex": [
       "$\\displaystyle \\mathbf{x} \\left(\\left. \\frac{d}{d \\xi_{1}} G{\\left(\\xi_{1},\\mathbf{y} \\right)} \\right|_{\\substack{ \\xi_{1}=\\mathbf{x} }} + 1\\right) + \\mathbf{y} \\left. \\frac{d}{d \\xi_{2}} G{\\left(\\mathbf{x},\\xi_{2} \\right)} \\right|_{\\substack{ \\xi_{2}=\\mathbf{y} }}$"
      ],
      "text/plain": [
       "x*(Subs(Derivative(G(_xi_1, y), _xi_1), _xi_1, x) + 1) + y*Subs(Derivative(G(x, _xi_2), _xi_2), _xi_2, y)"
      ]
     },
     "execution_count": 105,
     "metadata": {},
     "output_type": "execute_result"
    }
   ],
   "source": [
    "LieDerivative(X,s_field)"
   ]
  },
  {
   "cell_type": "code",
   "execution_count": 106,
   "metadata": {},
   "outputs": [
    {
     "data": {
      "text/latex": [
       "$\\displaystyle \\mathbf{x} \\partial_{y} + \\operatorname{Y_{1}}{\\left(\\mathbf{x},\\mathbf{y} \\right)} \\partial_{x}$"
      ],
      "text/plain": [
       "x*e_y + Y1(x, y)*e_x"
      ]
     },
     "execution_count": 106,
     "metadata": {},
     "output_type": "execute_result"
    }
   ],
   "source": [
    "Y = Y1(x,y) * Dx + x * Dy\n",
    "Y"
   ]
  },
  {
   "cell_type": "code",
   "execution_count": 107,
   "metadata": {},
   "outputs": [
    {
     "data": {
      "text/latex": [
       "$\\displaystyle - \\mathbf{x} e^{- \\mathbf{y}} \\cos{\\left(\\mathbf{x} \\right)} - \\operatorname{Y_{1}}{\\left(\\mathbf{x},\\mathbf{y} \\right)} e^{- \\mathbf{y}} \\sin{\\left(\\mathbf{x} \\right)}$"
      ],
      "text/plain": [
       "-x*exp(-y)*cos(x) - Y1(x, y)*exp(-y)*sin(x)"
      ]
     },
     "execution_count": 107,
     "metadata": {},
     "output_type": "execute_result"
    }
   ],
   "source": [
    "LieDerivative(Y,f)"
   ]
  },
  {
   "cell_type": "code",
   "execution_count": 108,
   "metadata": {},
   "outputs": [
    {
     "data": {
      "text/latex": [
       "$\\displaystyle - \\mathbf{x} e^{- \\mathbf{y}} \\cos{\\left(\\mathbf{x} \\right)} - \\operatorname{Y_{1}}{\\left(\\mathbf{x},\\mathbf{y} \\right)} e^{- \\mathbf{y}} \\sin{\\left(\\mathbf{x} \\right)}$"
      ],
      "text/plain": [
       "-x*exp(-y)*cos(x) - Y1(x, y)*exp(-y)*sin(x)"
      ]
     },
     "execution_count": 108,
     "metadata": {},
     "output_type": "execute_result"
    }
   ],
   "source": [
    "Y.rcall(f)"
   ]
  },
  {
   "cell_type": "code",
   "execution_count": 109,
   "metadata": {},
   "outputs": [
    {
     "data": {
      "text/latex": [
       "$\\displaystyle \\mathbf{x} \\left. \\frac{d}{d \\xi_{1}} \\operatorname{Y_{1}}{\\left(\\xi_{1},\\mathbf{y} \\right)} \\right|_{\\substack{ \\xi_{1}=\\mathbf{x} }} \\partial_{x} + \\mathbf{y} \\left. \\frac{d}{d \\xi_{2}} \\operatorname{Y_{1}}{\\left(\\mathbf{x},\\xi_{2} \\right)} \\right|_{\\substack{ \\xi_{2}=\\mathbf{y} }} \\partial_{x} - \\operatorname{Y_{1}}{\\left(\\mathbf{x},\\mathbf{y} \\right)} \\partial_{x}$"
      ],
      "text/plain": [
       "x*Subs(Derivative(Y1(_xi_1, y), _xi_1), _xi_1, x)*e_x + y*Subs(Derivative(Y1(x, _xi_2), _xi_2), _xi_2, y)*e_x - Y1(x, y)*e_x"
      ]
     },
     "execution_count": 109,
     "metadata": {},
     "output_type": "execute_result"
    }
   ],
   "source": [
    "LieDerivative(X,Y)"
   ]
  },
  {
   "cell_type": "code",
   "execution_count": 110,
   "metadata": {},
   "outputs": [
    {
     "data": {
      "text/latex": [
       "$\\displaystyle \\mathbf{x} \\left. \\frac{d}{d \\xi_{1}} \\operatorname{Y_{1}}{\\left(\\xi_{1},\\mathbf{y} \\right)} \\right|_{\\substack{ \\xi_{1}=\\mathbf{x} }} \\partial_{x} + \\mathbf{y} \\left. \\frac{d}{d \\xi_{2}} \\operatorname{Y_{1}}{\\left(\\mathbf{x},\\xi_{2} \\right)} \\right|_{\\substack{ \\xi_{2}=\\mathbf{y} }} \\partial_{x} - \\operatorname{Y_{1}}{\\left(\\mathbf{x},\\mathbf{y} \\right)} \\partial_{x}$"
      ],
      "text/plain": [
       "x*Subs(Derivative(Y1(_xi_1, y), _xi_1), _xi_1, x)*e_x + y*Subs(Derivative(Y1(x, _xi_2), _xi_2), _xi_2, y)*e_x - Y1(x, y)*e_x"
      ]
     },
     "execution_count": 110,
     "metadata": {},
     "output_type": "execute_result"
    }
   ],
   "source": [
    "Commutator(X,Y)"
   ]
  },
  {
   "cell_type": "code",
   "execution_count": 111,
   "metadata": {},
   "outputs": [
    {
     "data": {
      "text/latex": [
       "$\\displaystyle LieDerivative\\left(\\partial_{x}, \\operatorname{d}x\\right)$"
      ],
      "text/plain": [
       "LieDerivative(e_x, dx)"
      ]
     },
     "execution_count": 111,
     "metadata": {},
     "output_type": "execute_result"
    }
   ],
   "source": [
    "LieDerivative(Dx,dx)"
   ]
  },
  {
   "cell_type": "markdown",
   "metadata": {},
   "source": [
    "Riemannian stuff, vedi doc.\n",
    "---\n",
    "\n",
    "https://docs.sympy.org/latest/modules/diffgeom.html"
   ]
  },
  {
   "cell_type": "markdown",
   "metadata": {},
   "source": [
    "Integral curves\n",
    "---"
   ]
  },
  {
   "cell_type": "code",
   "execution_count": 240,
   "metadata": {},
   "outputs": [
    {
     "data": {
      "text/latex": [
       "$\\displaystyle Point\\left(\\text{A}^{\\text{P}}_{\\text{M}}, \\left[\\begin{matrix}2\\\\1\\end{matrix}\\right]\\right)$"
      ],
      "text/plain": [
       "Point(CoordSystem(A, Patch(P, Manifold(M, 2)), (x, y)), Matrix([\n",
       "[2],\n",
       "[1]]))"
      ]
     },
     "execution_count": 240,
     "metadata": {},
     "output_type": "execute_result"
    }
   ],
   "source": [
    "from sympy.abc import t\n",
    "X = x * Dx + y * Dy\n",
    "start_point = A.point([2,1])\n",
    "start_point"
   ]
  },
  {
   "cell_type": "code",
   "execution_count": 241,
   "metadata": {},
   "outputs": [
    {
     "data": {
      "text/latex": [
       "$\\displaystyle \\mathbf{x} \\partial_{x} + \\mathbf{y} \\partial_{y}$"
      ],
      "text/plain": [
       "x*e_x + y*e_y"
      ]
     },
     "execution_count": 241,
     "metadata": {},
     "output_type": "execute_result"
    }
   ],
   "source": [
    "X"
   ]
  },
  {
   "cell_type": "code",
   "execution_count": 242,
   "metadata": {},
   "outputs": [
    {
     "data": {
      "text/latex": [
       "$\\displaystyle \\left[\\begin{matrix}\\frac{t^{5}}{60} + \\frac{t^{4}}{12} + \\frac{t^{3}}{3} + t^{2} + 2 t + 2\\\\\\frac{t^{5}}{120} + \\frac{t^{4}}{24} + \\frac{t^{3}}{6} + \\frac{t^{2}}{2} + t + 1\\end{matrix}\\right]$"
      ],
      "text/plain": [
       "Matrix([\n",
       "[ t**5/60 + t**4/12 + t**3/3 + t**2 + 2*t + 2],\n",
       "[t**5/120 + t**4/24 + t**3/6 + t**2/2 + t + 1]])"
      ]
     },
     "execution_count": 242,
     "metadata": {},
     "output_type": "execute_result"
    }
   ],
   "source": [
    "# THIS PROVIDES EXPANSION OF SOLUTION including initial points!\n",
    "intcurve_series(X, t, start_point)"
   ]
  },
  {
   "cell_type": "code",
   "execution_count": 243,
   "metadata": {
    "scrolled": true
   },
   "outputs": [
    {
     "name": "stdout",
     "output_type": "stream",
     "text": [
      "⎡         d                   d        ⎤\n",
      "⎢-f₀(t) + ──(f₀(t)), -f₁(t) + ──(f₁(t))⎥\n",
      "⎣         dt                  dt       ⎦\n"
     ]
    }
   ],
   "source": [
    "# this provides the differential equations, not solved, to be used as input for dsolve()\n",
    "equations, init_cond = intcurve_diffequ(X, t, start_point)\n",
    "pprint(equations)"
   ]
  },
  {
   "cell_type": "code",
   "execution_count": 244,
   "metadata": {},
   "outputs": [
    {
     "data": {
      "text/plain": [
       "[-f_0(t) + Derivative(f_0(t), t), -f_1(t) + Derivative(f_1(t), t)]"
      ]
     },
     "execution_count": 244,
     "metadata": {},
     "output_type": "execute_result"
    }
   ],
   "source": [
    "# equations is in the good shape to be used directly in dsolve for ODE system, while I can't figure out how to\n",
    "# use the init_cond output as input for ode solver, so it has to be set up manually\n",
    "equations"
   ]
  },
  {
   "cell_type": "code",
   "execution_count": 245,
   "metadata": {},
   "outputs": [
    {
     "name": "stdout",
     "output_type": "stream",
     "text": [
      "[f₀(0) - 2, f₁(0) - 1]\n"
     ]
    }
   ],
   "source": [
    "# this is a list of two Add objects; one can be accessed as init_cond[0], but then I can't use it\n",
    "pprint(init_cond)"
   ]
  },
  {
   "cell_type": "code",
   "execution_count": 246,
   "metadata": {},
   "outputs": [
    {
     "data": {
      "text/latex": [
       "$\\displaystyle \\mathbf{x} \\partial_{x} + \\mathbf{y} \\partial_{y}$"
      ],
      "text/plain": [
       "x*e_x + y*e_y"
      ]
     },
     "execution_count": 246,
     "metadata": {},
     "output_type": "execute_result"
    }
   ],
   "source": [
    "# solution is simply \n",
    "# x(t) = 2 * exp(t)\n",
    "# y(t) = 1 * exp(t)\n",
    "X"
   ]
  },
  {
   "cell_type": "code",
   "execution_count": 247,
   "metadata": {
    "scrolled": false
   },
   "outputs": [
    {
     "data": {
      "text/plain": [
       "[Eq(f_0(t), C1*exp(t)), Eq(f_1(t), C2*exp(t))]"
      ]
     },
     "execution_count": 247,
     "metadata": {},
     "output_type": "execute_result"
    }
   ],
   "source": [
    "# solution without initial points is directly ok\n",
    "dsolve(equations)"
   ]
  },
  {
   "cell_type": "code",
   "execution_count": 248,
   "metadata": {},
   "outputs": [
    {
     "name": "stdout",
     "output_type": "stream",
     "text": [
      "⎡            t              t⎤\n",
      "⎣f₀(t) = C₁⋅ℯ , f₁(t) = C₂⋅ℯ ⎦\n"
     ]
    }
   ],
   "source": [
    "pprint(dsolve(equations))"
   ]
  },
  {
   "cell_type": "markdown",
   "metadata": {},
   "source": [
    "Qui sotto esempio funzionante self contained\n",
    "---"
   ]
  },
  {
   "cell_type": "code",
   "execution_count": 288,
   "metadata": {},
   "outputs": [
    {
     "data": {
      "text/plain": [
       "[Eq(f_0(t), 3*sin(t) + 2*cos(t)), Eq(f_1(t), -2*sin(t) + 3*cos(t))]"
      ]
     },
     "execution_count": 288,
     "metadata": {},
     "output_type": "execute_result"
    }
   ],
   "source": [
    "X = y * Dx + - x * Dy\n",
    "start_point = A.point([2,3])\n",
    "system, init_cond = intcurve_diffequ(X, t, start_point)\n",
    "\n",
    "# non riesc a usare init_cond, fatto da una lista con due add Object, quindi faccio a mano\n",
    "# per risolvere un ode system si parte da un sistema, quindi funzioni con nome dichiarato\n",
    "# e si impongono condizioni iniziali\n",
    "# in quesyo caso il sistema viene sputato fuori da intcurve_diffequ, che usa i nomi f_0 e f_1\n",
    "# quindi vanno dichiarati questi nomi, poi le condizioni iniziali si specificano come al solito\n",
    "# estraendole dal punto iniziale con le funzioni coordinate \n",
    "\n",
    "f_0 = Function('f_0')\n",
    "g_0 = Function('f_1')\n",
    "\n",
    "#x e y sono funzioni coordinate\n",
    "ic = {f_0(0):x(start_point), g_0(0):y(start_point)}\n",
    "\n",
    "dsolve(system, ics = ic)"
   ]
  },
  {
   "cell_type": "code",
   "execution_count": 289,
   "metadata": {},
   "outputs": [
    {
     "name": "stdout",
     "output_type": "stream",
     "text": [
      "[f₀(t) = 3⋅sin(t) + 2⋅cos(t), f₁(t) = -2⋅sin(t) + 3⋅cos(t)]\n"
     ]
    }
   ],
   "source": [
    "pprint(dsolve(system, ics = ic))"
   ]
  },
  {
   "cell_type": "markdown",
   "metadata": {},
   "source": [
    "Extract and use flow\n",
    "---"
   ]
  },
  {
   "cell_type": "code",
   "execution_count": 290,
   "metadata": {},
   "outputs": [
    {
     "data": {
      "text/latex": [
       "$\\displaystyle 3 \\sin{\\left(t \\right)} + 2 \\cos{\\left(t \\right)}$"
      ],
      "text/plain": [
       "3*sin(t) + 2*cos(t)"
      ]
     },
     "execution_count": 290,
     "metadata": {},
     "output_type": "execute_result"
    }
   ],
   "source": [
    "sol = dsolve(system, ics = ic)\n",
    "flow_x = sol[0].rhs\n",
    "flow_x\n",
    "\n"
   ]
  },
  {
   "cell_type": "code",
   "execution_count": 291,
   "metadata": {},
   "outputs": [
    {
     "data": {
      "text/latex": [
       "$\\displaystyle - 2 \\sin{\\left(t \\right)} + 3 \\cos{\\left(t \\right)}$"
      ],
      "text/plain": [
       "-2*sin(t) + 3*cos(t)"
      ]
     },
     "execution_count": 291,
     "metadata": {},
     "output_type": "execute_result"
    }
   ],
   "source": [
    "flow_y = sol[1].rhs\n",
    "flow_y\n"
   ]
  },
  {
   "cell_type": "markdown",
   "metadata": {},
   "source": [
    "Matrix of rank 2\n",
    "---\n",
    "\n",
    "Despite the name, the function twoform_to_matrix(.) works on any (0,2) tensor, not necessatily antisymeetric, but not on (2,0) tensors"
   ]
  },
  {
   "cell_type": "code",
   "execution_count": 251,
   "metadata": {},
   "outputs": [
    {
     "data": {
      "text/plain": [
       "sympy.diffgeom.diffgeom.TensorProduct"
      ]
     },
     "execution_count": 251,
     "metadata": {},
     "output_type": "execute_result"
    }
   ],
   "source": [
    "TP = TensorProduct\n",
    "TP"
   ]
  },
  {
   "cell_type": "code",
   "execution_count": 252,
   "metadata": {},
   "outputs": [
    {
     "data": {
      "text/latex": [
       "$\\displaystyle \\mathbf{x} \\partial_{x} \\otimes \\mathbf{y} \\partial_{x}$"
      ],
      "text/plain": [
       "TensorProduct(x*e_x, y*e_x)"
      ]
     },
     "execution_count": 252,
     "metadata": {},
     "output_type": "execute_result"
    }
   ],
   "source": [
    "X = x * Dx\n",
    "Y = y * Dx\n",
    "TP(X,Y)"
   ]
  },
  {
   "cell_type": "code",
   "execution_count": 253,
   "metadata": {},
   "outputs": [],
   "source": [
    "# This raised an error\n",
    "#twoform_to_matrix(TP(X,Y))"
   ]
  },
  {
   "cell_type": "code",
   "execution_count": 254,
   "metadata": {},
   "outputs": [
    {
     "data": {
      "text/latex": [
       "$\\displaystyle \\mathbf{x} \\operatorname{d}x \\otimes \\mathbf{y} \\operatorname{d}y$"
      ],
      "text/plain": [
       "TensorProduct(x*dx, y*dy)"
      ]
     },
     "execution_count": 254,
     "metadata": {},
     "output_type": "execute_result"
    }
   ],
   "source": [
    "a = x * dx\n",
    "b = y * dy\n",
    "TP(a,b)"
   ]
  },
  {
   "cell_type": "code",
   "execution_count": 255,
   "metadata": {
    "scrolled": true
   },
   "outputs": [
    {
     "data": {
      "text/latex": [
       "$\\displaystyle \\left[\\begin{matrix}0 & 0\\\\\\mathbf{x} \\mathbf{y} & 0\\end{matrix}\\right]$"
      ],
      "text/plain": [
       "Matrix([\n",
       "[  0, 0],\n",
       "[x*y, 0]])"
      ]
     },
     "execution_count": 255,
     "metadata": {},
     "output_type": "execute_result"
    }
   ],
   "source": [
    "twoform_to_matrix(TP(a,b))"
   ]
  },
  {
   "cell_type": "code",
   "execution_count": 256,
   "metadata": {},
   "outputs": [
    {
     "data": {
      "text/latex": [
       "$\\displaystyle \\mathbf{x} \\operatorname{d}x \\wedge \\mathbf{y} \\operatorname{d}y$"
      ],
      "text/plain": [
       "WedgeProduct(x*dx, y*dy)"
      ]
     },
     "execution_count": 256,
     "metadata": {},
     "output_type": "execute_result"
    }
   ],
   "source": [
    "WP = WedgeProduct\n",
    "WP(a,b)"
   ]
  },
  {
   "cell_type": "code",
   "execution_count": 257,
   "metadata": {},
   "outputs": [
    {
     "data": {
      "text/latex": [
       "$\\displaystyle \\left[\\begin{matrix}0 & - \\mathbf{x} \\mathbf{y}\\\\\\mathbf{x} \\mathbf{y} & 0\\end{matrix}\\right]$"
      ],
      "text/plain": [
       "Matrix([\n",
       "[  0, -x*y],\n",
       "[x*y,    0]])"
      ]
     },
     "execution_count": 257,
     "metadata": {},
     "output_type": "execute_result"
    }
   ],
   "source": [
    "twoform_to_matrix(WP(a,b))"
   ]
  },
  {
   "cell_type": "code",
   "execution_count": 258,
   "metadata": {},
   "outputs": [
    {
     "data": {
      "text/latex": [
       "$\\displaystyle \\mathbf{x} \\mathbf{y} \\operatorname{d}x \\wedge \\operatorname{d}y$"
      ],
      "text/plain": [
       "x*y*WedgeProduct(dx, dy)"
      ]
     },
     "execution_count": 258,
     "metadata": {},
     "output_type": "execute_result"
    }
   ],
   "source": [
    "j = (x*y) * WP(dx,dy)\n",
    "j"
   ]
  },
  {
   "cell_type": "code",
   "execution_count": 259,
   "metadata": {},
   "outputs": [
    {
     "data": {
      "text/latex": [
       "$\\displaystyle \\left[\\begin{matrix}0 & - \\mathbf{x} \\mathbf{y}\\\\\\mathbf{x} \\mathbf{y} & 0\\end{matrix}\\right]$"
      ],
      "text/plain": [
       "Matrix([\n",
       "[  0, -x*y],\n",
       "[x*y,    0]])"
      ]
     },
     "execution_count": 259,
     "metadata": {},
     "output_type": "execute_result"
    }
   ],
   "source": [
    "twoform_to_matrix(j)"
   ]
  },
  {
   "cell_type": "code",
   "execution_count": 260,
   "metadata": {},
   "outputs": [
    {
     "data": {
      "text/latex": [
       "$\\displaystyle \\operatorname{d}x \\otimes \\operatorname{d}x + 2 \\operatorname{d}x \\otimes \\operatorname{d}y + 3 \\operatorname{d}y \\otimes \\operatorname{d}x + 4 \\operatorname{d}y \\otimes \\operatorname{d}y$"
      ],
      "text/plain": [
       "TensorProduct(dx, dx) + 2*TensorProduct(dx, dy) + 3*TensorProduct(dy, dx) + 4*TensorProduct(dy, dy)"
      ]
     },
     "execution_count": 260,
     "metadata": {},
     "output_type": "execute_result"
    }
   ],
   "source": [
    "test = 1 * TP(dx,dx) + 2 * TP(dx,dy) + 3 * TP(dy,dx) + 4 * TP(dy,dy)\n",
    "test"
   ]
  },
  {
   "cell_type": "code",
   "execution_count": 261,
   "metadata": {},
   "outputs": [
    {
     "data": {
      "text/latex": [
       "$\\displaystyle \\left[\\begin{matrix}1 & 3\\\\2 & 4\\end{matrix}\\right]$"
      ],
      "text/plain": [
       "Matrix([\n",
       "[1, 3],\n",
       "[2, 4]])"
      ]
     },
     "execution_count": 261,
     "metadata": {},
     "output_type": "execute_result"
    }
   ],
   "source": [
    "# for some reason it's programmed to give the transpose of what expected, that is\n",
    "# 1 2\n",
    "# 3 4\n",
    "twoform_to_matrix(test)"
   ]
  }
 ],
 "metadata": {
  "kernelspec": {
   "display_name": "Python 3",
   "language": "python",
   "name": "python3"
  },
  "language_info": {
   "codemirror_mode": {
    "name": "ipython",
    "version": 3
   },
   "file_extension": ".py",
   "mimetype": "text/x-python",
   "name": "python",
   "nbconvert_exporter": "python",
   "pygments_lexer": "ipython3",
   "version": "3.7.3"
  }
 },
 "nbformat": 4,
 "nbformat_minor": 2
}
