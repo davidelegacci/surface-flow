{
 "cells": [
  {
   "cell_type": "code",
   "execution_count": 1,
   "metadata": {},
   "outputs": [],
   "source": [
    "import numpy as np\n",
    "#import math\n",
    "import matplotlib.pyplot as plt\n",
    "\n",
    "import scipy.integrate as inte\n",
    "from scipy.integrate import odeint\n",
    "\n",
    "#import time"
   ]
  },
  {
   "cell_type": "code",
   "execution_count": 2,
   "metadata": {},
   "outputs": [
    {
     "ename": "SyntaxError",
     "evalue": "invalid syntax (<ipython-input-2-a87d5322574e>, line 2)",
     "output_type": "error",
     "traceback": [
      "\u001b[0;36m  File \u001b[0;32m\"<ipython-input-2-a87d5322574e>\"\u001b[0;36m, line \u001b[0;32m2\u001b[0m\n\u001b[0;31m    def func(u)\u001b[0m\n\u001b[0m               ^\u001b[0m\n\u001b[0;31mSyntaxError\u001b[0m\u001b[0;31m:\u001b[0m invalid syntax\n"
     ]
    }
   ],
   "source": [
    "#ODE system\n",
    "def func(u):\n",
    "\n",
    "    u1,u2=u\n",
    "    \n",
    "    return [-u1+u2*(0.2+u1**2),0.5-u2*(0.2+u1**2)]\n"
   ]
  },
  {
   "cell_type": "code",
   "execution_count": null,
   "metadata": {},
   "outputs": [],
   "source": [
    "#ODE solver\n",
    "def ode(u0,parameters,t_stop,N,t_start=0):\n",
    "    '''u0 = tuple of initial conditions, len(u0) = n for n-dimensional system\n",
    "    parameters = tuple of parameters'''\n",
    "    \n",
    "    t=np.linspace(t_start,t_stop,N)\n",
    "    data=odeint(func, u0, t, args = parameters)\n",
    "    u1,u2=data[:,0],data[:,1]\n",
    "    \n",
    "    return t,u1,u2"
   ]
  },
  {
   "cell_type": "code",
   "execution_count": null,
   "metadata": {},
   "outputs": [],
   "source": [
    "#obtain initial conditions equispaced on fixed boundary\n",
    "def bound(a,b,n): \n",
    "    'output is a list of lists; a,b = domani boundaries, n = number of initial conditions'\n",
    "    X,Y=np.linspace(a,b,n),np.linspace(a,b,n)\n",
    "    start=[]\n",
    "    for x in X:\n",
    "        if x==a or x==b:\n",
    "            for y in Y: start.append([x,y])\n",
    "        else:\n",
    "            for y in [Y[0],Y[-1]]: start.append((x,y))\n",
    "    return start\n",
    "    \n",
    "#Plots single trajectory\n",
    "def Rplot(u0,parameters,t_stop=100,N=1000000,t_start=0):\n",
    "    '''u0 = tuple of initial conditions, len(u0) = n for n-dimensional system\n",
    "    parameters = tuple of parameters'''\n",
    "    \n",
    "    t,u1,u2=ode(u0,parameters,t_stop,N,t_start=0)\n",
    "    plt.plot(u1,u2, color='k', linewidth=0.1)\n",
    "    \n",
    "#Plot with many different initial conditions\n",
    "def go(parameters,t_stop=100,N=1000000,t_start=0):\n",
    "    'parameters = tuple'\n",
    "    start=bound(0,2,10) #boundary and number of lines\n",
    "    plt.figure(figsize=(10,10))\n",
    "    [Rplot(u0,parameters,t_stop,N,t_start) for u0 in start]\n",
    "    #plt.title(parameters)\n",
    "    #x=np.linspace(plt.xlim()[0],plt.xlim()[1],100)"
   ]
  },
  {
   "cell_type": "code",
   "execution_count": null,
   "metadata": {},
   "outputs": [],
   "source": [
    "go((0.2,0.5))"
   ]
  }
 ],
 "metadata": {
  "kernelspec": {
   "display_name": "Python 3",
   "language": "python",
   "name": "python3"
  },
  "language_info": {
   "codemirror_mode": {
    "name": "ipython",
    "version": 3
   },
   "file_extension": ".py",
   "mimetype": "text/x-python",
   "name": "python",
   "nbconvert_exporter": "python",
   "pygments_lexer": "ipython3",
   "version": "3.7.3"
  }
 },
 "nbformat": 4,
 "nbformat_minor": 2
}
