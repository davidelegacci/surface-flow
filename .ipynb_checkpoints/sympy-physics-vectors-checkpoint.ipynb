{
 "cells": [
  {
   "cell_type": "markdown",
   "metadata": {},
   "source": [
    "Basics of vector field in Euclidean space\n",
    "-----\n",
    "1. https://docs.sympy.org/latest/modules/physics/vector/fields.html\n",
    "2. https://docs.sympy.org/latest/modules/physics/vector/vectors.html\n"
   ]
  },
  {
   "cell_type": "code",
   "execution_count": 113,
   "metadata": {},
   "outputs": [],
   "source": [
    "from sympy.abc import x\n",
    "from sympy.physics.vector import *\n",
    "\n",
    "\n",
    "# There is also \n",
    "# from sympy.vector import *\n",
    "# con funzioni diverse e in contrasto!"
   ]
  },
  {
   "cell_type": "code",
   "execution_count": 114,
   "metadata": {},
   "outputs": [],
   "source": [
    "R = ReferenceFrame('R')\n",
    "# This is a frame of coordinates R[0], R[1], R[2] and basis vectors R.x, R.y, R.z"
   ]
  },
  {
   "cell_type": "code",
   "execution_count": 115,
   "metadata": {},
   "outputs": [],
   "source": [
    "# Vector field\n",
    "\n",
    "# Components\n",
    "X1 = 2 * R[0]\n",
    "X2 = R[1]**2\n",
    "X3 = R[2] + R[0]\n",
    "\n",
    "# Linear combination of basis vectors\n",
    "X = X1 * R.x + X2 * R.y + X3 * R.z"
   ]
  },
  {
   "cell_type": "code",
   "execution_count": 116,
   "metadata": {},
   "outputs": [
    {
     "data": {
      "text/latex": [
       "$\\displaystyle 2 R_{x}\\mathbf{\\hat{r}_x} + R_{y}^{2}\\mathbf{\\hat{r}_y} + (R_{x} + R_{z})\\mathbf{\\hat{r}_z}$"
      ],
      "text/plain": [
       "2*R_x*R.x + R_y**2*R.y + (R_x + R_z)*R.z"
      ]
     },
     "execution_count": 116,
     "metadata": {},
     "output_type": "execute_result"
    }
   ],
   "source": [
    "X"
   ]
  },
  {
   "cell_type": "code",
   "execution_count": 117,
   "metadata": {},
   "outputs": [
    {
     "data": {
      "text/latex": [
       "$\\displaystyle 2 R_{y} + 3$"
      ],
      "text/plain": [
       "2*R_y + 3"
      ]
     },
     "execution_count": 117,
     "metadata": {},
     "output_type": "execute_result"
    }
   ],
   "source": [
    "# Divergence of X\n",
    "divergence(X, R)"
   ]
  },
  {
   "cell_type": "code",
   "execution_count": 118,
   "metadata": {},
   "outputs": [],
   "source": [
    "# Scalar function \n",
    "\n",
    "f = R[0]*R[1] + R[1]**2"
   ]
  },
  {
   "cell_type": "code",
   "execution_count": 119,
   "metadata": {},
   "outputs": [
    {
     "data": {
      "text/latex": [
       "$\\displaystyle R_{x} R_{y} + R_{y}^{2}$"
      ],
      "text/plain": [
       "R_x*R_y + R_y**2"
      ]
     },
     "execution_count": 119,
     "metadata": {},
     "output_type": "execute_result"
    }
   ],
   "source": [
    "f"
   ]
  },
  {
   "cell_type": "code",
   "execution_count": 120,
   "metadata": {},
   "outputs": [
    {
     "data": {
      "text/latex": [
       "$\\displaystyle R_{x} + 2 R_{y}$"
      ],
      "text/plain": [
       "R_x + 2*R_y"
      ]
     },
     "execution_count": 120,
     "metadata": {},
     "output_type": "execute_result"
    }
   ],
   "source": [
    "# Partial derivative\n",
    "\n",
    "diff(f,R[1])"
   ]
  },
  {
   "cell_type": "code",
   "execution_count": 121,
   "metadata": {},
   "outputs": [
    {
     "data": {
      "text/latex": [
       "$\\displaystyle R_{y}\\mathbf{\\hat{r}_x} + (R_{x} + 2 R_{y})\\mathbf{\\hat{r}_y}$"
      ],
      "text/plain": [
       "R_y*R.x + (R_x + 2*R_y)*R.y"
      ]
     },
     "execution_count": 121,
     "metadata": {},
     "output_type": "execute_result"
    }
   ],
   "source": [
    "# differential manually; define operator? This is a vector but should be a 1-form --> move to geodiff module\n",
    "\n",
    "df = diff(f,R[0]) * R.x + diff(f,R[1]) * R.y + diff(f,R[2]) * R.z\n",
    "df"
   ]
  },
  {
   "cell_type": "code",
   "execution_count": 122,
   "metadata": {},
   "outputs": [
    {
     "data": {
      "text/latex": [
       "$\\displaystyle 2 R_{x} R_{y} + R_{y}^{2} \\left(R_{x} + 2 R_{y}\\right)$"
      ],
      "text/plain": [
       "2*R_x*R_y + R_y**2*(R_x + 2*R_y)"
      ]
     },
     "execution_count": 122,
     "metadata": {},
     "output_type": "execute_result"
    }
   ],
   "source": [
    "# Partial derivative of f along X aka X(f) = X . df\n",
    "# & is dot product\n",
    "\n",
    "X & df\n"
   ]
  }
 ],
 "metadata": {
  "kernelspec": {
   "display_name": "Python 3",
   "language": "python",
   "name": "python3"
  },
  "language_info": {
   "codemirror_mode": {
    "name": "ipython",
    "version": 3
   },
   "file_extension": ".py",
   "mimetype": "text/x-python",
   "name": "python",
   "nbconvert_exporter": "python",
   "pygments_lexer": "ipython3",
   "version": "3.7.3"
  }
 },
 "nbformat": 4,
 "nbformat_minor": 2
}
